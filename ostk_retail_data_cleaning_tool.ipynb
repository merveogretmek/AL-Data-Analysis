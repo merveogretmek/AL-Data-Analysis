{
 "cells": [
  {
   "cell_type": "markdown",
   "id": "983444ed",
   "metadata": {},
   "source": [
    "# OSTK Data Cleaning Automation Tool\n",
    "\n",
    "## Overview\n",
    "\n",
    "This notebook automates the process of cleaning and transforming data for OSTK product listings. The objective is to ensure the data meets required quality standards before analysis and reporting.\n",
    "\n",
    "Key tasks include:\n",
    "- Loading and normalizing raw JSON data\n",
    "- Converting nested price data into flat tables\n",
    "- Parsing specifications into dictionaries and then DataFrames\n",
    "- Merging parsed data with original DataFrame\n",
    "- Renaming and dropping duplicate or unwanted columns\n",
    "- Exporting the final dataset to Excel and applying styling\n",
    "\n"
   ]
  },
  {
   "cell_type": "markdown",
   "id": "cbee1ff3",
   "metadata": {},
   "source": [
    "Following has applied to improve efficiency:\n",
    "- Remove unused imports\n",
    "- Clean dictionary-maker logic \n",
    "- Consolidate the creation of spec_data into single loop\n",
    "- Rename variable for clarity\n",
    "- Optimize Excel styling"
   ]
  },
  {
   "cell_type": "markdown",
   "id": "91b04393",
   "metadata": {},
   "source": [
    "## 1. Import Libraries and Load Data"
   ]
  },
  {
   "cell_type": "code",
   "execution_count": 25,
   "id": "c9b7568b",
   "metadata": {},
   "outputs": [],
   "source": [
    "# Import necessary libraries\n",
    "import pandas as pd\n",
    "from openpyxl import load_workbook\n",
    "from openpyxl.styles import PatternFill, Border, Side, Alignment, Font\n",
    "from openpyxl.styles import numbers"
   ]
  },
  {
   "cell_type": "code",
   "execution_count": 26,
   "id": "f9b6c9e7",
   "metadata": {},
   "outputs": [],
   "source": [
    "# Load the JSON file\n",
    "df = pd.read_json(\"../data/raw/snap_m82yajni2aaxivr8hc.json\")"
   ]
  },
  {
   "cell_type": "code",
   "execution_count": 27,
   "id": "c42480ca",
   "metadata": {},
   "outputs": [
    {
     "data": {
      "text/plain": [
       "['availability',\n",
       " 'average_rating',\n",
       " 'breadcrumbs',\n",
       " 'category',\n",
       " 'combinations',\n",
       " 'description',\n",
       " 'image_count',\n",
       " 'is_video',\n",
       " 'name',\n",
       " 'number_of_reviews',\n",
       " 'promo_price',\n",
       " 'regular_price',\n",
       " 'reviews',\n",
       " 'sale_tag',\n",
       " 'specifications',\n",
       " 'url']"
      ]
     },
     "execution_count": 27,
     "metadata": {},
     "output_type": "execute_result"
    }
   ],
   "source": [
    "list(df.columns)"
   ]
  },
  {
   "cell_type": "markdown",
   "id": "f9f1d3dc",
   "metadata": {},
   "source": [
    "## 2. Data Cleaning and Preprocessing"
   ]
  },
  {
   "cell_type": "code",
   "execution_count": 28,
   "id": "f4410baf",
   "metadata": {},
   "outputs": [],
   "source": [
    "# Normalize nested JSON fields\n",
    "regular_price = pd.json_normalize(df['regular_price'])\n",
    "promo_price = pd.json_normalize(df['promo_price'])\n",
    "link = pd.json_normalize(df['url'])\n",
    "\n",
    "# Concateante the original data with normalized columns\n",
    "df_new = pd.concat([df,regular_price,promo_price,link],axis=1)"
   ]
  },
  {
   "cell_type": "code",
   "execution_count": 29,
   "id": "5d279f17",
   "metadata": {},
   "outputs": [
    {
     "data": {
      "text/plain": [
       "['availability',\n",
       " 'average_rating',\n",
       " 'breadcrumbs',\n",
       " 'category',\n",
       " 'combinations',\n",
       " 'description',\n",
       " 'image_count',\n",
       " 'is_video',\n",
       " 'name',\n",
       " 'number_of_reviews',\n",
       " 'promo_price',\n",
       " 'regular_price',\n",
       " 'reviews',\n",
       " 'sale_tag',\n",
       " 'specifications',\n",
       " 'url',\n",
       " 'currency',\n",
       " 'symbol',\n",
       " 'value',\n",
       " 'currency',\n",
       " 'symbol',\n",
       " 'value']"
      ]
     },
     "execution_count": 29,
     "metadata": {},
     "output_type": "execute_result"
    }
   ],
   "source": [
    "list(df_new.columns)"
   ]
  },
  {
   "cell_type": "markdown",
   "id": "277e64ab",
   "metadata": {},
   "source": [
    "## 3.  Convert Specifications to a DataFrame"
   ]
  },
  {
   "cell_type": "code",
   "execution_count": 30,
   "id": "85909946",
   "metadata": {},
   "outputs": [],
   "source": [
    "# Function to convert a list of strings (each in key:value format) into a dictionary\n",
    "def dictionary_maker(record):\n",
    "    if not record or not isinstance(record, list):\n",
    "        return {}\n",
    "    \n",
    "    keys, values = [], []\n",
    "    for item in record:\n",
    "        try:\n",
    "            key, val = item.split(\":\", 1)\n",
    "            keys.append(key.strip())\n",
    "            values.append(val.strip())\n",
    "        except:\n",
    "            continue\n",
    "    return dict(zip(keys, values))"
   ]
  },
  {
   "cell_type": "code",
   "execution_count": 31,
   "id": "e1071b83",
   "metadata": {},
   "outputs": [],
   "source": [
    "# Convert 'specifications' into dictionaries\n",
    "df_new['specifications'] = df_new['specifications'].apply(dictionary_maker)\n",
    "\n",
    "# Clean empty keys in 'specifications'\n",
    "for idx in range(len(df_new)):\n",
    "    try:\n",
    "        specs_dict = df_new.at[idx, 'specifications']\n",
    "        if '' in specs_dict:\n",
    "            specs_dict['Item #'] = specs_dict['']\n",
    "            del specs_dict['']\n",
    "    except:\n",
    "        pass"
   ]
  },
  {
   "cell_type": "code",
   "execution_count": 32,
   "id": "275ce142",
   "metadata": {},
   "outputs": [],
   "source": [
    "# Convert each row's 'specifications' into a DataFrame indexed by 'url'\n",
    "spec_df_list = []\n",
    "\n",
    "for i in df_new.index:\n",
    "    try:\n",
    "        row_specs = df_new.at[i, 'specifications']\n",
    "        row_url = df_new.at[i, 'url']\n",
    "        temp_df = pd.DataFrame([row_specs], index=[row_url])\n",
    "        spec_df_list.append(temp_df)\n",
    "    except Exception as e:\n",
    "        print(f\"Error at index {i}: {e}\")\n",
    "        continue\n",
    "\n",
    "specs_merged = pd.concat(spec_df_list).reset_index().rename(columns={'index': 'url'})\n",
    "\n",
    "# Merge specs DataFrame back into main DataFrame\n",
    "df_final = pd.merge(df_new, specs_merged, on='url', how='left')\n",
    "\n",
    "# Replace spaces with underscores in column names\n",
    "df_final.columns = [col.replace(' ', '_') if isinstance(col, str) else col for col in df_final.columns]\n",
    "\n",
    "# Retrieve the list of columns from the copied DataFrame\n",
    "df_final_columns = df_final.columns.to_list()"
   ]
  },
  {
   "cell_type": "markdown",
   "id": "9b99f356",
   "metadata": {},
   "source": [
    "## 4. Handle Duplicate Columns and Rename Specific Ones"
   ]
  },
  {
   "cell_type": "code",
   "execution_count": 35,
   "id": "15a9ab40",
   "metadata": {},
   "outputs": [],
   "source": [
    "# Identify duplicate columns\n",
    "dupe_cols = df_final.columns[df_final.columns.duplicated()].unique()\n",
    "if len(dupe_cols) > 0:\n",
    "    print(f\"Duplicate columns: {dupe_cols}\")\n",
    "\n",
    "# Append index to duplicates\n",
    "df_final.columns = [\n",
    "    f\"{col}_{i}\" if col in dupe_cols else col\n",
    "    for i, col in enumerate(df_final.columns)\n",
    "]"
   ]
  },
  {
   "cell_type": "code",
   "execution_count": 36,
   "id": "ba68212c",
   "metadata": {},
   "outputs": [
    {
     "name": "stdout",
     "output_type": "stream",
     "text": [
      "['availability', 'average_rating', 'breadcrumbs', 'category', 'combinations', 'description', 'image_count', 'is_video', 'name', 'number_of_reviews', 'promo_price', 'regular_price', 'reviews', 'sale_tag', 'specifications', 'url', 'currency_16', 'symbol_17', 'value_18', 'currency_19', 'symbol_20', 'value_21', 'Item_#', 'Dimensions', 'Style', 'Material', 'Finish', 'Set_Size', 'Frame_Material', 'Assembly', 'Chair_Back_Height', 'Arms', 'Color', 'Number_of_Pieces', 'Product_Features', 'Seat_Height', 'Seat_Material', 'Seat_Style', 'Stool_Base', 'Weight_Capacity', 'Warranty', 'Model_Number', 'Bed_Design', 'Size', 'Slats_Included', 'Wood_Species', 'Back_Style', 'Upholstery_Material', 'Base_Type', 'Chair_Material', 'Seats_Up_To', 'Set_Design', 'Shape', 'Table_Frame_Material', 'Table_Height', 'Chair_Type', 'Cushion_Material', 'Design', 'Top_Material', 'Type', 'Set_Includes', 'Pattern', 'Length', 'Chair_Back_Style', 'Expandable', 'Table_Top_Material', 'Storage_Type', 'Print', 'Arm_Style', 'Cushion_Fill', 'Seat_Comfort', 'Care_Instruction', 'Orientation', 'Accent_Type', 'Feature', 'Weave_Type', 'Pile_Height', 'Rug_Type', 'Application', 'Bench_Type', 'Estilo', 'Acabado', 'Montaje', 'Caracteristicas_del_Producto', 'Tama&ntilde;o', 'Base_Material', 'Subject', 'Altura_de_Respaldo_de_la_Silla', 'Forma', 'Tipo', 'Tipo_de_Silla', 'Tama&ntilde;o_de_Juego', 'Material_del_Marco', 'Altura_del_Asiento', 'Material_de_Asiento', 'Capacidad_de_Carga', 'Estilo_de_Asiento', 'Pillow_Shape', 'Closure_Type', 'Cover_Material', 'Fill_Type', 'Lifestage', 'Pillow_Type', 'Relative_Size', 'Commercial', 'Plant_Type', 'Seating_Type', 'Dresser_Type', 'Wood_Tone', 'Cabinet_Height', 'Number_of_Cabinets', 'Number_of_Drawers', 'Number_of_Sinks', 'Sink_Shape', 'Sink_Type', 'Pocket_Depth', 'Frame_Color', 'Period', 'Desk_Type', 'Rugs_by_Room', 'Socioeconomic_Status', 'Estampado', 'Impresi&oacute;n', 'Tipo_de_Banco', 'Console_Width', 'Number_of_Shelves', 'Artist', 'Application_Type', 'Bunk_Configuration', 'Finish_Enhancements', 'Glass_Type', 'Metal_Finish', 'Power_Source', 'Longitud', 'Color_Temperature', 'Exact_Bulb_Wattage', 'Exact_Number_of_Lights', 'Fixture_Design', 'Light_Bulb_Type', 'Light_Direction', 'Number_of_Tiers', 'Capacity', 'Wattage', 'Gender']\n"
     ]
    }
   ],
   "source": [
    "print(list(df_final.columns))"
   ]
  },
  {
   "cell_type": "code",
   "execution_count": 37,
   "id": "6bcc90c3",
   "metadata": {},
   "outputs": [
    {
     "name": "stdout",
     "output_type": "stream",
     "text": [
      "['availability', 'average_rating', 'breadcrumbs', 'category', 'combinations', 'description', 'image_count', 'is_video', 'name', 'number_of_reviews', 'promo_price', 'regular_price', 'reviews', 'sale_tag', 'specifications', 'url', 'currency_16', 'symbol_17', 'regular_retail_price', 'currency_19', 'symbol_20', 'discounted_retail_price', 'Item_#', 'Dimensions', 'Style', 'Material', 'Finish', 'Set_Size', 'Frame_Material', 'Assembly', 'Chair_Back_Height', 'Arms', 'Color', 'Number_of_Pieces', 'Product_Features', 'Seat_Height', 'Seat_Material', 'Seat_Style', 'Stool_Base', 'Weight_Capacity', 'Warranty', 'Model_Number', 'Bed_Design', 'Size', 'Slats_Included', 'Wood_Species', 'Back_Style', 'Upholstery_Material', 'Base_Type', 'Chair_Material', 'Seats_Up_To', 'Set_Design', 'Shape', 'Table_Frame_Material', 'Table_Height', 'Chair_Type', 'Cushion_Material', 'Design', 'Top_Material', 'Type', 'Set_Includes', 'Pattern', 'Length', 'Chair_Back_Style', 'Expandable', 'Table_Top_Material', 'Storage_Type', 'Print', 'Arm_Style', 'Cushion_Fill', 'Seat_Comfort', 'Care_Instruction', 'Orientation', 'Accent_Type', 'Feature', 'Weave_Type', 'Pile_Height', 'Rug_Type', 'Application', 'Bench_Type', 'Estilo', 'Acabado', 'Montaje', 'Caracteristicas_del_Producto', 'Tama&ntilde;o', 'Base_Material', 'Subject', 'Altura_de_Respaldo_de_la_Silla', 'Forma', 'Tipo', 'Tipo_de_Silla', 'Tama&ntilde;o_de_Juego', 'Material_del_Marco', 'Altura_del_Asiento', 'Material_de_Asiento', 'Capacidad_de_Carga', 'Estilo_de_Asiento', 'Pillow_Shape', 'Closure_Type', 'Cover_Material', 'Fill_Type', 'Lifestage', 'Pillow_Type', 'Relative_Size', 'Commercial', 'Plant_Type', 'Seating_Type', 'Dresser_Type', 'Wood_Tone', 'Cabinet_Height', 'Number_of_Cabinets', 'Number_of_Drawers', 'Number_of_Sinks', 'Sink_Shape', 'Sink_Type', 'Pocket_Depth', 'Frame_Color', 'Period', 'Desk_Type', 'Rugs_by_Room', 'Socioeconomic_Status', 'Estampado', 'Impresi&oacute;n', 'Tipo_de_Banco', 'Console_Width', 'Number_of_Shelves', 'Artist', 'Application_Type', 'Bunk_Configuration', 'Finish_Enhancements', 'Glass_Type', 'Metal_Finish', 'Power_Source', 'Longitud', 'Color_Temperature', 'Exact_Bulb_Wattage', 'Exact_Number_of_Lights', 'Fixture_Design', 'Light_Bulb_Type', 'Light_Direction', 'Number_of_Tiers', 'Capacity', 'Wattage', 'Gender']\n"
     ]
    }
   ],
   "source": [
    "# Rename the specific columns\n",
    "df_final.rename(columns={'value_18': 'regular_retail_price', \n",
    "                         'value_21': 'discounted_retail_price'}, \n",
    "                         inplace=True)\n",
    "\n",
    "# List the current columns for review\n",
    "print(list(df_final.columns))"
   ]
  },
  {
   "cell_type": "code",
   "execution_count": 38,
   "id": "6853e432",
   "metadata": {},
   "outputs": [],
   "source": [
    "# Drop unwanted columns\n",
    "cols_to_drop=[\n",
    "    'currency_16','symbol_17','currency_19',\n",
    "    'symbol_20','promo_price','regular_price'\n",
    "    ]\n",
    "df_final.drop(columns=cols_to_drop, errors='ignore', inplace=True)\n",
    "\n",
    "# Reorder columns\n",
    "main_cols = [\n",
    "    'Item_#', 'Model_Number', 'name', 'category', 'combinations', \n",
    "    'description','regular_retail_price','discounted_retail_price'\n",
    "    ]\n",
    "other_cols = [c for c in df_final.columns if c not in main_cols]\n",
    "df_final = df_final[main_cols + other_cols]"
   ]
  },
  {
   "cell_type": "markdown",
   "id": "3dbd3c6a",
   "metadata": {},
   "source": [
    "## 5. Finalize DataFrame and Export to Excel"
   ]
  },
  {
   "cell_type": "code",
   "execution_count": 39,
   "id": "e65713aa",
   "metadata": {},
   "outputs": [],
   "source": [
    "# Export the processed DataFrame to an Excel file\n",
    "df_final.to_excel('../data/processed/overstock_retail_data_3132025.xlsx')"
   ]
  },
  {
   "cell_type": "markdown",
   "id": "1335ce0e",
   "metadata": {},
   "source": [
    "## 6. Load Excel Workbook and Apply Styling"
   ]
  },
  {
   "cell_type": "code",
   "execution_count": 40,
   "id": "8424b97d",
   "metadata": {},
   "outputs": [],
   "source": [
    "# Load the exported Excel workbook\n",
    "wb =load_workbook(filename = '../data/processed/overstock_retail_data_3132025.xlsx')\n",
    "\n",
    "# Select the active worksheet\n",
    "ws = wb.active\n",
    "\n",
    "# Apply an auto-filter\n",
    "ws.auto_filter.ref = ws.dimensions"
   ]
  },
  {
   "cell_type": "code",
   "execution_count": 41,
   "id": "2fa16667",
   "metadata": {},
   "outputs": [],
   "source": [
    "# Define a header font style\n",
    "font = Font(size=15, bold=True, italic=False, vertAlign=None, underline='none', strike=False, color='FF000000')\n",
    "\n",
    "# Define text wrapping alignment\n",
    "wrap = Alignment(wrapText=True,horizontal='left')\n",
    "\n",
    "# Define left alignment for cells\n",
    "left_alignment = Alignment(horizontal='left')\n",
    "\n",
    "# Define a fill pattern for header cells\n",
    "fill = PatternFill(\"solid\", fgColor=\"00CCFFCC\")\n",
    "\n",
    "# Define thin borders for cells\n",
    "top=Side(border_style='thin',color=\"FF000000\")\n",
    "bottom=Side(border_style='thin', color=\"FF000000\")\n",
    "left = Side(border_style='thin', color=\"FF000000\")\n",
    "right = Side(border_style='thin', color=\"FF000000\")\n",
    "border=Border(top=top,bottom=bottom,left=left,right=right)"
   ]
  },
  {
   "cell_type": "code",
   "execution_count": 42,
   "id": "ed873d40",
   "metadata": {},
   "outputs": [],
   "source": [
    "# Get the total number of rows in the worksheet\n",
    "last_row = ws.max_row\n",
    "\n",
    "# Set a standard row height for all rows\n",
    "for i in range(2,last_row+1):\n",
    "    ws.row_dimensions[i].height = 15\n",
    "\n",
    "# Apply number formatting to column B\n",
    "for cell in ws[\"B:B\"]:\n",
    "    cell.number_format = numbers.FORMAT_NUMBER\n",
    "\n",
    "# Apply left alignment and thin borders to all cells \n",
    "for rows in ws.iter_rows(min_row=1, max_row=last_row):\n",
    "    for cell in rows:\n",
    "         cell.alignment = left_alignment\n",
    "         cell.border = border\n",
    "\n",
    "# Format the header row\n",
    "for cell in ws[\"1:1\"]:\n",
    "    cell.font = font\n",
    "    cell.fill = fill"
   ]
  },
  {
   "cell_type": "markdown",
   "id": "4eb927dd",
   "metadata": {},
   "source": [
    "## 7. Apply Additional Alignment for Specific Columns"
   ]
  },
  {
   "cell_type": "code",
   "execution_count": 43,
   "id": "7276c784",
   "metadata": {},
   "outputs": [],
   "source": [
    "# Enable text wrapping for specific columns\n",
    "for col in ['D', 'E', 'I', 'O', 'P']:\n",
    "    for cell in ws[col]:\n",
    "        cell.alignment = wrap"
   ]
  },
  {
   "cell_type": "markdown",
   "id": "3fbc3a14",
   "metadata": {},
   "source": [
    "## 8. Freeze Panes and Set Column Widths"
   ]
  },
  {
   "cell_type": "code",
   "execution_count": 44,
   "id": "bf1cdb98",
   "metadata": {},
   "outputs": [],
   "source": [
    "# Freeze panes to keep the header visible when scrolling\n",
    "ws.freeze_panes = ws[\"B2\"]\n",
    "\n",
    "# Define column widths\n",
    "col_widths = {\n",
    "    \"B\": 20, \"C\": 50, \"D\": 30, \"E\": 60, \"F\": 60,\n",
    "    \"G\": 20, \"H\": 20, \"I\": 20, \"J\": 20, \"K\": 20,\n",
    "    \"L\": 20, \"M\": 20, \"N\": 20, \"O\": 30, \"P\": 20,\n",
    "    \"Q\": 100, \"R\": 40, \"S\":40\n",
    "}\n",
    "\n",
    "# Apply column widths\n",
    "for col, width in col_widths.items():\n",
    "    ws.column_dimensions[col].width = width"
   ]
  },
  {
   "cell_type": "markdown",
   "id": "bfe646ae",
   "metadata": {},
   "source": [
    "## 9. Save the Styled Workbook"
   ]
  },
  {
   "cell_type": "code",
   "execution_count": 45,
   "id": "3ee89ec3",
   "metadata": {},
   "outputs": [],
   "source": [
    "wb.save(\"../data/processed/overstock_retail_data_3132025_styled.xlsx\")"
   ]
  }
 ],
 "metadata": {
  "kernelspec": {
   "display_name": "Python 3",
   "language": "python",
   "name": "python3"
  },
  "language_info": {
   "codemirror_mode": {
    "name": "ipython",
    "version": 3
   },
   "file_extension": ".py",
   "mimetype": "text/x-python",
   "name": "python",
   "nbconvert_exporter": "python",
   "pygments_lexer": "ipython3",
   "version": "3.10.9"
  }
 },
 "nbformat": 4,
 "nbformat_minor": 5
}
