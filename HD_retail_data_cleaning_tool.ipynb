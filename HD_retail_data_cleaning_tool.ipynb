{
 "cells": [
  {
   "cell_type": "markdown",
   "id": "be1ff604",
   "metadata": {},
   "source": [
    "# Hemo Depot Data Cleaning Automation Tool\n",
    "\n",
    "## Overview\n",
    "\n",
    "This notebook automates the process of cleaning and transforming data for Home Depot product listings. The objective is to ensure the data meets required quality standards before analysis and reporting.\n",
    "\n",
    "Key tasks include:\n",
    "- Handling missing values\n",
    "- Renaming columns\n",
    "- Flattening nested JSON data\n",
    "- Subsetting the data\n",
    "- Excel styling and formatting"
   ]
  },
  {
   "cell_type": "markdown",
   "id": "939d42cc",
   "metadata": {},
   "source": [
    "Following has applied to improve efficiency:\n",
    "- Remove unused imports\n",
    "- Combine concatenations\n",
    "- Vectorize string operations\n",
    "- Optimize Excel styling\n",
    "- Iterate over columns\n",
    "- Use a dictionary for column widths"
   ]
  },
  {
   "cell_type": "markdown",
   "id": "c0a453ff",
   "metadata": {},
   "source": [
    "## 1. Import Libraries and Load Data"
   ]
  },
  {
   "cell_type": "code",
   "execution_count": 19,
   "id": "986d9197",
   "metadata": {},
   "outputs": [],
   "source": [
    "# Importing necessary libraries\n",
    "import pandas as pd\n",
    "import numpy as np\n",
    "from openpyxl import load_workbook\n",
    "from openpyxl.styles import PatternFill, Border, Side, Alignment, Font"
   ]
  },
  {
   "cell_type": "code",
   "execution_count": 20,
   "id": "4bbdf277",
   "metadata": {},
   "outputs": [],
   "source": [
    "# Read JSON file\n",
    "df = pd.read_json(\"../data/raw/snap_m82yajn2uy51wplt3.json\")"
   ]
  },
  {
   "cell_type": "markdown",
   "id": "d22ce87b",
   "metadata": {},
   "source": [
    "## 2. Data Cleaning and Preprocessing"
   ]
  },
  {
   "cell_type": "code",
   "execution_count": 21,
   "id": "18cc229d",
   "metadata": {},
   "outputs": [
    {
     "name": "stderr",
     "output_type": "stream",
     "text": [
      "/var/folders/1p/063yl0ms01z8skkqfmk94z9c0000gn/T/ipykernel_79364/2770309186.py:2: FutureWarning: A value is trying to be set on a copy of a DataFrame or Series through chained assignment using an inplace method.\n",
      "The behavior will change in pandas 3.0. This inplace method will never work because the intermediate object on which we are setting values always behaves as a copy.\n",
      "\n",
      "For example, when doing 'df[col].method(value, inplace=True)', try using 'df.method({col: value}, inplace=True)' or df[col] = df[col].method(value) instead, to perform the operation inplace on the original object.\n",
      "\n",
      "\n",
      "  df['list_price'].fillna('{\"value\":0,\"currency\":\"USD\",\"symbol\":\"$\"}',inplace=True)\n",
      "/var/folders/1p/063yl0ms01z8skkqfmk94z9c0000gn/T/ipykernel_79364/2770309186.py:3: FutureWarning: A value is trying to be set on a copy of a DataFrame or Series through chained assignment using an inplace method.\n",
      "The behavior will change in pandas 3.0. This inplace method will never work because the intermediate object on which we are setting values always behaves as a copy.\n",
      "\n",
      "For example, when doing 'df[col].method(value, inplace=True)', try using 'df.method({col: value}, inplace=True)' or df[col] = df[col].method(value) instead, to perform the operation inplace on the original object.\n",
      "\n",
      "\n",
      "  df['promo_price'].fillna('{\"value\":0,\"currency\":\"USD\",\"symbol\":\"$\"}',inplace=True)\n"
     ]
    }
   ],
   "source": [
    "# Filling missing prices with a default value\n",
    "df['list_price'].fillna('{\"value\":0,\"currency\":\"USD\",\"symbol\":\"$\"}',inplace=True)\n",
    "df['promo_price'].fillna('{\"value\":0,\"currency\":\"USD\",\"symbol\":\"$\"}',inplace=True)"
   ]
  },
  {
   "cell_type": "code",
   "execution_count": 22,
   "id": "7b0033c9",
   "metadata": {},
   "outputs": [],
   "source": [
    "# Rename columns \n",
    "df = df.rename(columns={\"name\":\"product_name\",\"list_price\":\"regular_price\",\"promo_price\":\"discounted_price\"})"
   ]
  },
  {
   "cell_type": "code",
   "execution_count": 23,
   "id": "8c73f632",
   "metadata": {},
   "outputs": [],
   "source": [
    "# Normalize Nested JSON data\n",
    "regular_price = pd.json_normalize(df['regular_price'])\n",
    "link = pd.json_normalize(df['url'])\n",
    "discounted_price = pd.json_normalize(df['discounted_price'])"
   ]
  },
  {
   "cell_type": "code",
   "execution_count": 24,
   "id": "7f081e57",
   "metadata": {},
   "outputs": [],
   "source": [
    "df_new = pd.concat([df, regular_price, link, discounted_price], axis=1)"
   ]
  },
  {
   "cell_type": "code",
   "execution_count": 25,
   "id": "aafec532",
   "metadata": {},
   "outputs": [],
   "source": [
    "# Create a new column 'omsid' by extracting SKU\n",
    "df_new['omsid'] = df_new['url'].str.split('/').str[-1]"
   ]
  },
  {
   "cell_type": "markdown",
   "id": "6ab8f708",
   "metadata": {},
   "source": [
    "## 3. Select Relevant Columns and Export as Excel"
   ]
  },
  {
   "cell_type": "code",
   "execution_count": 26,
   "id": "8caf5bc9",
   "metadata": {},
   "outputs": [],
   "source": [
    "# Define a list of columns to retain in the final DataFrame\n",
    "clist = ['omsid','product_name','breadcrumbs', 'category', 'availability', 'regular_price', 'discounted_price', 'average_ratings', \n",
    "       'combinations', 'description', 'image_counter', 'is_video','number_of_reviews', 'reviews', 'seller_info', 'special_buy_tag', 'url']\n",
    "\n",
    "# Select only the relevant columns for further analysis\n",
    "df_new =  df_new[clist]\n",
    "\n",
    "# Write the final DataFrame to an Excel\n",
    "df_new.to_excel('../data/processed/homedepot_retail_data_3132025.xlsx')"
   ]
  },
  {
   "cell_type": "markdown",
   "id": "f1140a21",
   "metadata": {},
   "source": [
    "## 4. Load Excel Workbook and Apply Styling"
   ]
  },
  {
   "cell_type": "code",
   "execution_count": 27,
   "id": "50c5eabd",
   "metadata": {},
   "outputs": [],
   "source": [
    "# Load the exported Excel workbook \n",
    "wb =load_workbook(filename = '../data/processed/homedepot_retail_data_3132025.xlsx')\n",
    "\n",
    "# Select the active worksheet in the workbook\n",
    "ws = wb.active\n",
    "\n",
    "# Apply an auto-filter\n",
    "ws.auto_filter.ref = ws.dimensions"
   ]
  },
  {
   "cell_type": "code",
   "execution_count": 28,
   "id": "a0a75ab3",
   "metadata": {},
   "outputs": [],
   "source": [
    "# Define the font style for header cells\n",
    "font = Font(size=15, bold=True, italic=False, vertAlign=None, underline='none', strike=False, color='FF000000')\n",
    "\n",
    "# Define a cell alignment that enables text wrapping\n",
    "wrap = Alignment(wrapText=True,horizontal='left')\n",
    "\n",
    "# Define left alignment for cells\n",
    "left_alignment = Alignment(horizontal='left')\n",
    "\n",
    "# Define a fill pattern for header cells\n",
    "fill = PatternFill(\"solid\", fgColor=\"00CCFFCC\")\n",
    "\n",
    "# Define thin borders for cells\n",
    "top=Side(border_style='thin',color=\"FF000000\")\n",
    "bottom=Side(border_style='thin', color=\"FF000000\")\n",
    "left = Side(border_style='thin', color=\"FF000000\")\n",
    "right = Side(border_style='thin', color=\"FF000000\")\n",
    "border=Border(top=top,bottom=bottom,left=left,right=right)"
   ]
  },
  {
   "cell_type": "code",
   "execution_count": 29,
   "id": "c5da62af",
   "metadata": {},
   "outputs": [],
   "source": [
    "# Get the total number of rows in the worksheet\n",
    "last_row = ws.max_row\n",
    "\n",
    "# Set a standard row height for all rows\n",
    "for i in range(2,last_row+1):\n",
    "    ws.row_dimensions[i].height = 15\n",
    "\n",
    "# Apply left alignment and thin border to all cells in the worksheet\n",
    "for row in ws.iter_rows(min_row=1, max_row=ws.max_row):\n",
    "    for cell in row:\n",
    "        cell.alignment = left_alignment\n",
    "        cell.border = border\n",
    "\n",
    "# Format the header row \n",
    "for cell in ws[\"1:1\"]:\n",
    "    cell.font = font\n",
    "    cell.fill = fill"
   ]
  },
  {
   "cell_type": "markdown",
   "id": "2e87e32b",
   "metadata": {},
   "source": [
    "## 5. Apply Additional Alignment for Specific Columns"
   ]
  },
  {
   "cell_type": "code",
   "execution_count": 30,
   "id": "746c80cb",
   "metadata": {},
   "outputs": [],
   "source": [
    "# Enable text wrapping for column J, D, E, G\n",
    "for col in ['J', 'D', 'E', 'G']:\n",
    "    for cell in ws[col]:\n",
    "        cell.alignment = wrap"
   ]
  },
  {
   "cell_type": "markdown",
   "id": "218fbb58",
   "metadata": {},
   "source": [
    "## 6. Freeze Panes and Set Column Widths"
   ]
  },
  {
   "cell_type": "code",
   "execution_count": 31,
   "id": "d33b9282",
   "metadata": {},
   "outputs": [],
   "source": [
    "# Freeze panes to keep the header visible when scrolling\n",
    "ws.freeze_panes = ws[\"B2\"]\n",
    "\n",
    "# Set custom column widths \n",
    "col_widths = {\n",
    "    \"B\": 15, \"C\": 20, \"D\":40, \"E\": 40,\n",
    "    \"F\": 20, \"G\": 40, \"H\": 30, \"I\": 30,\n",
    "    \"J\": 100, \"K\": 30, \"L\": 20, \"M\": 20,\n",
    "    \"N\": 20, \"O\": 40, \"P\": 100\n",
    "}\n",
    "\n",
    "# Apply column widths\n",
    "for col, width in col_widths.items():\n",
    "    ws.column_dimensions[col].width = width"
   ]
  },
  {
   "cell_type": "markdown",
   "id": "478bf4be",
   "metadata": {},
   "source": [
    "## 7. Save the Styled Workbook"
   ]
  },
  {
   "cell_type": "code",
   "execution_count": 32,
   "id": "ed040e7f",
   "metadata": {},
   "outputs": [],
   "source": [
    "wb.save(\"../data/processed/homedepot_retail_data_3132025_styled.xlsx\")"
   ]
  }
 ],
 "metadata": {
  "kernelspec": {
   "display_name": "Python 3",
   "language": "python",
   "name": "python3"
  },
  "language_info": {
   "codemirror_mode": {
    "name": "ipython",
    "version": 3
   },
   "file_extension": ".py",
   "mimetype": "text/x-python",
   "name": "python",
   "nbconvert_exporter": "python",
   "pygments_lexer": "ipython3",
   "version": "3.10.9"
  }
 },
 "nbformat": 4,
 "nbformat_minor": 5
}
