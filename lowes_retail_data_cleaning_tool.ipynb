{
 "cells": [
  {
   "cell_type": "markdown",
   "id": "ec303e16",
   "metadata": {},
   "source": [
    "# Lowe's Data Cleaning Automation Tool\n",
    "\n",
    "## Overview\n",
    "\n",
    "This notebook automates the process of cleaning and transforming data for Lowe's product listings. The objective is to ensure the data meets required quality standards before analysis and reporting.\n",
    "\n",
    "Key tasks include:\n",
    "- Loading JSON data\n",
    "- Handling missing values\n",
    "- Normalizing nested specifications data\n",
    "- Rearranging columns for analysis\n",
    "- Exporting the data to Excel and applying styling"
   ]
  },
  {
   "cell_type": "markdown",
   "id": "1dcdd0a2",
   "metadata": {},
   "source": [
    "Following has applied to improve efficiency:\n",
    "- Remove unused imports\n",
    "- Consolidate DataFrame operations\n",
    "- Streamline Excel styling"
   ]
  },
  {
   "cell_type": "markdown",
   "id": "ce36cff4",
   "metadata": {},
   "source": [
    "## 1. Import Libraries and Load Data"
   ]
  },
  {
   "cell_type": "code",
   "execution_count": 1,
   "id": "52c7243d",
   "metadata": {},
   "outputs": [],
   "source": [
    "# Importing necessary libraries\n",
    "import pandas as pd\n",
    "from openpyxl import load_workbook\n",
    "from openpyxl.styles import PatternFill, Border, Side, Alignment, Font\n",
    "from openpyxl.styles import numbers"
   ]
  },
  {
   "cell_type": "code",
   "execution_count": 2,
   "id": "03d1183b",
   "metadata": {},
   "outputs": [],
   "source": [
    "# Load the JSON file \n",
    "df = pd.read_json(\"../data/raw/snap_m82yajnf2q1vcwnkpi.json\")"
   ]
  },
  {
   "cell_type": "markdown",
   "id": "cb66d19d",
   "metadata": {},
   "source": [
    "## 2. Data Cleaning and Preprocessing"
   ]
  },
  {
   "cell_type": "code",
   "execution_count": 4,
   "id": "969fa899",
   "metadata": {},
   "outputs": [],
   "source": [
    "# Fill missing values in combinations/specifications/average_rating\n",
    "df.combinations = df.combinations.fillna('[{\"Manufacturer Color/Finish\":\" \"}]')\n",
    "df.specifications = df.specifications.fillna('{\" \":\" \"}')\n",
    "df.average_rating = df.average_rating.fillna(0.0)"
   ]
  },
  {
   "cell_type": "code",
   "execution_count": 5,
   "id": "2e178a5f",
   "metadata": {},
   "outputs": [],
   "source": [
    "# Normalize the nested JSON in specifications\n",
    "spec_normalized = pd.json_normalize(df['specifications'])\n",
    "\n",
    "# Concatenate the normalized specifications with original DataFrame\n",
    "df_new = pd.concat([df, spec_normalized], axis=1)"
   ]
  },
  {
   "cell_type": "code",
   "execution_count": 7,
   "id": "4ef3340a",
   "metadata": {},
   "outputs": [],
   "source": [
    "# Essential columns\n",
    "essential_columns = ['Item#', 'Model#', 'name', 'category', 'combinations', 'description','regular_retail_price','discounted_retail_price']\n",
    "\n",
    "# Combine essential columns + the rest\n",
    "remaining_columns = [col for col in df_new.columns if col not in essential_columns]\n",
    "selected_columns = essential_columns + remaining_columns\n",
    "df_new = df_new[selected_columns]"
   ]
  },
  {
   "cell_type": "markdown",
   "id": "b6f5a357",
   "metadata": {},
   "source": [
    "## 3. Export to Excel"
   ]
  },
  {
   "cell_type": "code",
   "execution_count": 8,
   "id": "fd89d8e4",
   "metadata": {},
   "outputs": [],
   "source": [
    "df_new.to_excel('../data/processed/lowes_retail_data_3132025.xlsx')"
   ]
  },
  {
   "cell_type": "markdown",
   "id": "5b06b569",
   "metadata": {},
   "source": [
    "## 4. Load Excel Workbook and Apply Styling"
   ]
  },
  {
   "cell_type": "code",
   "execution_count": 9,
   "id": "6eaa471f",
   "metadata": {},
   "outputs": [],
   "source": [
    "# Load the exported Excel workbook\n",
    "wb =load_workbook(filename = '../data/processed/lowes_retail_data_3132025.xlsx')\n",
    "\n",
    "# Select the active worksheet\n",
    "ws = wb.active\n",
    "\n",
    "# Apply an auto-filter\n",
    "ws.auto_filter.ref = ws.dimensions"
   ]
  },
  {
   "cell_type": "code",
   "execution_count": 10,
   "id": "8ad19b29",
   "metadata": {},
   "outputs": [],
   "source": [
    "# Define a header font style\n",
    "font = Font(size=15, bold=True, italic=False, vertAlign=None, underline='none', strike=False, color='FF000000')\n",
    "\n",
    "# Define text wrapping alignment\n",
    "wrap = Alignment(wrapText=True,horizontal='left')\n",
    "\n",
    "# Define left alignment for cells\n",
    "left_alignment = Alignment(horizontal='left')\n",
    "\n",
    "# Define a fill pattern\n",
    "fill = PatternFill(\"solid\", fgColor=\"00CCFFCC\")\n",
    "\n",
    "# Define thin vorders for cells\n",
    "top=Side(border_style='thin',color=\"FF000000\")\n",
    "bottom=Side(border_style='thin', color=\"FF000000\")\n",
    "left = Side(border_style='thin', color=\"FF000000\")\n",
    "right = Side(border_style='thin', color=\"FF000000\")\n",
    "border=Border(top=top,bottom=bottom,left=left,right=right)"
   ]
  },
  {
   "cell_type": "code",
   "execution_count": 11,
   "id": "ffcef143",
   "metadata": {},
   "outputs": [],
   "source": [
    "# Get the total number of rows in the worksheet\n",
    "last_row = ws.max_row\n",
    "\n",
    "# Set a standard row height for all rows\n",
    "for i in range(2,last_row+1):\n",
    "    ws.row_dimensions[i].height = 15\n",
    "\n",
    "# Apply left alignment and thin borders to every cell\n",
    "for row in ws.iter_rows(min_row=1, max_row=last_row):\n",
    "    for cell in row:\n",
    "        cell.alignment = left_alignment\n",
    "        cell.border = border"
   ]
  },
  {
   "cell_type": "code",
   "execution_count": 12,
   "id": "ee372a27",
   "metadata": {},
   "outputs": [],
   "source": [
    "# Format the header row \n",
    "for cell in ws[\"1:1\"]:\n",
    "    cell.font = font\n",
    "    cell.fill = fill"
   ]
  },
  {
   "cell_type": "markdown",
   "id": "2e972ce5",
   "metadata": {},
   "source": [
    "## 5. Apply Additional Alignments for Specific Columns"
   ]
  },
  {
   "cell_type": "code",
   "execution_count": 13,
   "id": "348d10d2",
   "metadata": {},
   "outputs": [],
   "source": [
    "# Wrap text in certain columns\n",
    "wrap_columns = ['D', 'H', 'I', 'O']\n",
    "for col in wrap_columns:\n",
    "    for cell in ws[col]:\n",
    "        cell.alignment = wrap"
   ]
  },
  {
   "cell_type": "markdown",
   "id": "4093cdc3",
   "metadata": {},
   "source": [
    "## 6. Freeze Panes and Set Column Widths"
   ]
  },
  {
   "cell_type": "code",
   "execution_count": 14,
   "id": "40766378",
   "metadata": {},
   "outputs": [],
   "source": [
    "# Freeze panes to keep the header visible when scrolling\n",
    "ws.freeze_panes = ws[\"B2\"]"
   ]
  },
  {
   "cell_type": "code",
   "execution_count": 15,
   "id": "64134138",
   "metadata": {},
   "outputs": [],
   "source": [
    "# Define column widths\n",
    "col_widths = {\n",
    "    \"B\": 20, \"C\": 20, \"D\": 60, \"E\": 20, \"F\": 20,\n",
    "    \"G\": 20, \"H\": 60, \"I\": 60, \"J\": 20, \"K\": 20,\n",
    "    \"L\": 20, \"M\": 20, \"N\": 60, \"O\": 60, \"Q\": 60\n",
    "}\n",
    "\n",
    "# Apply column widths\n",
    "for col, width in col_widths.items():\n",
    "    ws.column_dimensions[col].width = width"
   ]
  },
  {
   "cell_type": "markdown",
   "id": "ef247601",
   "metadata": {},
   "source": [
    "## 7. Save the Styled Workbook"
   ]
  },
  {
   "cell_type": "code",
   "execution_count": 16,
   "id": "ce645b01",
   "metadata": {},
   "outputs": [],
   "source": [
    "wb.save(\"../data/processed/lowes_retail_data_3132025_styled.xlsx\")"
   ]
  },
  {
   "cell_type": "code",
   "execution_count": null,
   "id": "9c7bfd6f",
   "metadata": {},
   "outputs": [],
   "source": []
  }
 ],
 "metadata": {
  "kernelspec": {
   "display_name": "Python 3",
   "language": "python",
   "name": "python3"
  },
  "language_info": {
   "codemirror_mode": {
    "name": "ipython",
    "version": 3
   },
   "file_extension": ".py",
   "mimetype": "text/x-python",
   "name": "python",
   "nbconvert_exporter": "python",
   "pygments_lexer": "ipython3",
   "version": "3.10.9"
  }
 },
 "nbformat": 4,
 "nbformat_minor": 5
}
