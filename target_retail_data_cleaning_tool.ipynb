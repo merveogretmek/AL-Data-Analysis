{
 "cells": [
  {
   "cell_type": "markdown",
   "id": "9a3e45f0",
   "metadata": {},
   "source": [
    "# Target Data Cleaning Automation Tool\n",
    "\n",
    "## Overview\n",
    "\n",
    "This notebook automates the process of cleaning and transforming data for Target product listings. The objective is to ensure the data meets required quality standards before analysis and reporting.\n",
    "\n",
    "Key tasks include:\n",
    "- Loading and normalizing raw JSON data\n",
    "- Parsing nested price and specifications fields into flat structures\n",
    "- Merging processed specifications with the main DataFrame\n",
    "- Dropping duplicate or unnecessary columns and reordering the columns\n",
    "- Exporting the final dataset to Excel and applying styling"
   ]
  },
  {
   "cell_type": "markdown",
   "id": "2a3a2cdb",
   "metadata": {},
   "source": [
    "Following has applied to improve efficiency:\n",
    "- Remove unused imports\n",
    "- Implement cleaner dictonary-maker logic\n",
    "- Consolidate the creation of specifications data\n",
    "- Rename variables for clarity\n",
    "- Optimized styling process with merging loops and using dictionaries"
   ]
  },
  {
   "cell_type": "markdown",
   "id": "3bffca75",
   "metadata": {},
   "source": [
    "## 1. Import Libraries and Load the Data"
   ]
  },
  {
   "cell_type": "code",
   "execution_count": 73,
   "id": "4a6d985c",
   "metadata": {},
   "outputs": [],
   "source": [
    "# Importing necessart libraries\n",
    "import pandas as pd\n",
    "import re\n",
    "from openpyxl import load_workbook\n",
    "from openpyxl.styles import PatternFill, Border, Side, Alignment, Font\n",
    "from openpyxl.styles import numbers"
   ]
  },
  {
   "cell_type": "code",
   "execution_count": 74,
   "id": "3493704b",
   "metadata": {},
   "outputs": [],
   "source": [
    "# Read JSON file\n",
    "df = pd.read_json(\"../data/raw/snap_m82yajnk2ckxnn3lyv.json\")"
   ]
  },
  {
   "cell_type": "markdown",
   "id": "d77b1946",
   "metadata": {},
   "source": [
    "## 2. Data Cleaning and Preprocessing"
   ]
  },
  {
   "cell_type": "code",
   "execution_count": 75,
   "id": "52213423",
   "metadata": {},
   "outputs": [],
   "source": [
    "# Normalize the nested JSON fields\n",
    "regular_price = pd.json_normalize(df['regular_price']).rename(columns={'value': 'regular_retail_price'})\n",
    "promo_price = pd.json_normalize(df['promo_price']).rename(columns={'value': 'discounted_retail_price'})\n",
    "\n",
    "# Concatenate the original DataFrame with the normalized price DataFrame\n",
    "dF= pd.concat([df,regular_price,promo_price],axis=1)"
   ]
  },
  {
   "cell_type": "code",
   "execution_count": 76,
   "id": "7777810a",
   "metadata": {},
   "outputs": [
    {
     "data": {
      "text/plain": [
       "Index(['availability', 'average_ratings', 'breadcrumbs', 'category',\n",
       "       'description', 'details', 'image_counter', 'is_video', 'name',\n",
       "       'number_of_reviews', 'promo_price', 'regular_price', 'reviews',\n",
       "       'sale_tag', 'seller_info', 'specifications', 'url',\n",
       "       'variations/list_of_options', 'zipcode', 'currency', 'symbol',\n",
       "       'regular_retail_price', 'currency', 'symbol',\n",
       "       'discounted_retail_price'],\n",
       "      dtype='object')"
      ]
     },
     "execution_count": 76,
     "metadata": {},
     "output_type": "execute_result"
    }
   ],
   "source": [
    "dF.columns"
   ]
  },
  {
   "cell_type": "markdown",
   "id": "a1b38936",
   "metadata": {},
   "source": [
    "## 3. Convert Specifications to a DataFrame"
   ]
  },
  {
   "cell_type": "code",
   "execution_count": 77,
   "id": "0ddcd801",
   "metadata": {},
   "outputs": [],
   "source": [
    "# Extract the 'specifications' and 'url' columns\n",
    "spes = dF[['specifications','url']]"
   ]
  },
  {
   "cell_type": "code",
   "execution_count": 78,
   "id": "5953ed43",
   "metadata": {},
   "outputs": [],
   "source": [
    "# Function to convert a list of strings (each in key:value format) into a dictionary\n",
    "def dictionary_maker(dict_specifications: dict) -> dict:\n",
    "    keys, values = [], []\n",
    "    spec_list = dict_specifications.get('Table', [])\n",
    "\n",
    "    for item in spec_list:\n",
    "        try:\n",
    "            # Skip items containing hyphens\n",
    "            if '-' in item:\n",
    "                continue\n",
    "            # Split on the first colon\n",
    "            if ':' in item:\n",
    "                parts = re.split(r':\\s?', item, maxsplit=1)\n",
    "                if len(parts) == 2:\n",
    "                    keys.append(parts[0].strip())\n",
    "                    values.append(parts[1].strip())\n",
    "        except Exception as e:\n",
    "            print(f\"Error parsing item '{item}': {e}\")\n",
    "            continue\n",
    "\n",
    "    return dict(zip(keys, values))"
   ]
  },
  {
   "cell_type": "code",
   "execution_count": 79,
   "id": "fbe5b436",
   "metadata": {},
   "outputs": [
    {
     "name": "stderr",
     "output_type": "stream",
     "text": [
      "/var/folders/1p/063yl0ms01z8skkqfmk94z9c0000gn/T/ipykernel_61099/272234431.py:2: SettingWithCopyWarning: \n",
      "A value is trying to be set on a copy of a slice from a DataFrame.\n",
      "Try using .loc[row_indexer,col_indexer] = value instead\n",
      "\n",
      "See the caveats in the documentation: https://pandas.pydata.org/pandas-docs/stable/user_guide/indexing.html#returning-a-view-versus-a-copy\n",
      "  spes['specifications'] = spes['specifications'].apply(dictionary_maker)\n"
     ]
    }
   ],
   "source": [
    "# Apply the dictionary_maker function to the 'specifications' column\n",
    "spes['specifications'] = spes['specifications'].apply(dictionary_maker)"
   ]
  },
  {
   "cell_type": "code",
   "execution_count": 80,
   "id": "8e6fcf61",
   "metadata": {},
   "outputs": [
    {
     "data": {
      "text/html": [
       "<div>\n",
       "<style scoped>\n",
       "    .dataframe tbody tr th:only-of-type {\n",
       "        vertical-align: middle;\n",
       "    }\n",
       "\n",
       "    .dataframe tbody tr th {\n",
       "        vertical-align: top;\n",
       "    }\n",
       "\n",
       "    .dataframe thead th {\n",
       "        text-align: right;\n",
       "    }\n",
       "</style>\n",
       "<table border=\"1\" class=\"dataframe\">\n",
       "  <thead>\n",
       "    <tr style=\"text-align: right;\">\n",
       "      <th></th>\n",
       "      <th>specifications</th>\n",
       "      <th>url</th>\n",
       "    </tr>\n",
       "  </thead>\n",
       "  <tbody>\n",
       "    <tr>\n",
       "      <th>0</th>\n",
       "      <td>{'Number of Pieces': '2', 'Seats up to': '2', ...</td>\n",
       "      <td>https://www.target.com/p/set-of-2-azalea-fabri...</td>\n",
       "    </tr>\n",
       "    <tr>\n",
       "      <th>1</th>\n",
       "      <td>{'Features': 'Padded Back, Contoured Back, Arm...</td>\n",
       "      <td>https://www.target.com/p/30%EF%BF%BD-Sonia-Swi...</td>\n",
       "    </tr>\n",
       "    <tr>\n",
       "      <th>2</th>\n",
       "      <td>{'Features': 'With Back, Armless, Swivels, Foo...</td>\n",
       "      <td>https://www.target.com/p/30-Carise-Swivel-Coun...</td>\n",
       "    </tr>\n",
       "    <tr>\n",
       "      <th>3</th>\n",
       "      <td>{'Features': 'Low Back', 'Number of Pieces': '...</td>\n",
       "      <td>https://www.target.com/p/30-Alec-Bar-Height-Sw...</td>\n",
       "    </tr>\n",
       "    <tr>\n",
       "      <th>4</th>\n",
       "      <td>{'Features': 'Rectangle (shape)', 'Number of P...</td>\n",
       "      <td>https://www.target.com/p/Rectangular-Solange-C...</td>\n",
       "    </tr>\n",
       "    <tr>\n",
       "      <th>...</th>\n",
       "      <td>...</td>\n",
       "      <td>...</td>\n",
       "    </tr>\n",
       "    <tr>\n",
       "      <th>526</th>\n",
       "      <td>{'Features': 'Square (shape)', 'Number of Piec...</td>\n",
       "      <td>https://www.target.com/p/Duval-Adjustable-Bars...</td>\n",
       "    </tr>\n",
       "    <tr>\n",
       "      <th>527</th>\n",
       "      <td>{'Number of Pieces': '2', 'Seats up to': '2', ...</td>\n",
       "      <td>https://www.target.com/p/armen-living-set-of-2...</td>\n",
       "    </tr>\n",
       "    <tr>\n",
       "      <th>528</th>\n",
       "      <td>{'Features': 'Curved Back, Swivels, Footrest, ...</td>\n",
       "      <td>https://www.target.com/p/30-Cohen-Barstool-wit...</td>\n",
       "    </tr>\n",
       "    <tr>\n",
       "      <th>529</th>\n",
       "      <td>{'Features': 'Round (shape)', 'Number of Piece...</td>\n",
       "      <td>https://www.target.com/p/armen-living-30-flynn...</td>\n",
       "    </tr>\n",
       "    <tr>\n",
       "      <th>530</th>\n",
       "      <td>{'Features': 'Square (shape)', 'Number of Piec...</td>\n",
       "      <td>https://www.target.com/p/30-Verona-Bar-Height-...</td>\n",
       "    </tr>\n",
       "  </tbody>\n",
       "</table>\n",
       "<p>531 rows × 2 columns</p>\n",
       "</div>"
      ],
      "text/plain": [
       "                                        specifications  \\\n",
       "0    {'Number of Pieces': '2', 'Seats up to': '2', ...   \n",
       "1    {'Features': 'Padded Back, Contoured Back, Arm...   \n",
       "2    {'Features': 'With Back, Armless, Swivels, Foo...   \n",
       "3    {'Features': 'Low Back', 'Number of Pieces': '...   \n",
       "4    {'Features': 'Rectangle (shape)', 'Number of P...   \n",
       "..                                                 ...   \n",
       "526  {'Features': 'Square (shape)', 'Number of Piec...   \n",
       "527  {'Number of Pieces': '2', 'Seats up to': '2', ...   \n",
       "528  {'Features': 'Curved Back, Swivels, Footrest, ...   \n",
       "529  {'Features': 'Round (shape)', 'Number of Piece...   \n",
       "530  {'Features': 'Square (shape)', 'Number of Piec...   \n",
       "\n",
       "                                                   url  \n",
       "0    https://www.target.com/p/set-of-2-azalea-fabri...  \n",
       "1    https://www.target.com/p/30%EF%BF%BD-Sonia-Swi...  \n",
       "2    https://www.target.com/p/30-Carise-Swivel-Coun...  \n",
       "3    https://www.target.com/p/30-Alec-Bar-Height-Sw...  \n",
       "4    https://www.target.com/p/Rectangular-Solange-C...  \n",
       "..                                                 ...  \n",
       "526  https://www.target.com/p/Duval-Adjustable-Bars...  \n",
       "527  https://www.target.com/p/armen-living-set-of-2...  \n",
       "528  https://www.target.com/p/30-Cohen-Barstool-wit...  \n",
       "529  https://www.target.com/p/armen-living-30-flynn...  \n",
       "530  https://www.target.com/p/30-Verona-Bar-Height-...  \n",
       "\n",
       "[531 rows x 2 columns]"
      ]
     },
     "execution_count": 80,
     "metadata": {},
     "output_type": "execute_result"
    }
   ],
   "source": [
    "spes"
   ]
  },
  {
   "cell_type": "code",
   "execution_count": 81,
   "id": "a61e3199",
   "metadata": {},
   "outputs": [],
   "source": [
    "# Build a list of rows for the new specs DataFrame\n",
    "spec_data = []\n",
    "\n",
    "for idx in spes.index:\n",
    "    spec_dict = spes.at[idx, 'specifications']\n",
    "    if isinstance(spec_dict, dict):\n",
    "        # Filter out excessively long keys or complex types\n",
    "        filtered_dict = {\n",
    "            k: (str(v) if isinstance(v, (dict, list)) else v)\n",
    "            for k, v in spec_dict.items()\n",
    "            if len(k) < 50\n",
    "        }\n",
    "        filtered_dict['url'] = spes.at[idx, 'url']\n",
    "        spec_data.append(filtered_dict)\n",
    "\n",
    "reg_total = pd.DataFrame(spec_data).reset_index(drop=True)"
   ]
  },
  {
   "cell_type": "code",
   "execution_count": 82,
   "id": "d42b7698",
   "metadata": {},
   "outputs": [],
   "source": [
    "# Reset index\n",
    "dF = dF.reset_index(drop=True)\n",
    "reg_total = reg_total.reset_index(drop=True)\n",
    "\n",
    "# Rename index column\n",
    "reg_total = reg_total.rename(columns={\"index\":\"url\"})\n",
    "\n",
    "# Retrieve the list of columns\n",
    "totalColumns = reg_total.columns.to_list()\n",
    "\n",
    "# Ensure both DataFrames have their indices reset\n",
    "dF.reset_index(drop=True, inplace=True)\n",
    "reg_total.reset_index(drop=True, inplace=True)"
   ]
  },
  {
   "cell_type": "markdown",
   "id": "fd8486d2",
   "metadata": {},
   "source": [
    "## 4. Handle Duplicate Columns and Rename Specific Ones"
   ]
  },
  {
   "cell_type": "code",
   "execution_count": 83,
   "id": "673fb6ad",
   "metadata": {},
   "outputs": [
    {
     "name": "stdout",
     "output_type": "stream",
     "text": [
      "Duplicate columns in dF: Index(['currency', 'symbol'], dtype='object')\n",
      "Duplicate columns in reg_total: Index([], dtype='object')\n"
     ]
    }
   ],
   "source": [
    "# Check for duplicates\n",
    "dup_dF = dF.columns[dF.columns.duplicated()].unique()\n",
    "dup_regTotal = reg_total.columns[reg_total.columns.duplicated()].unique()\n",
    "\n",
    "print(\"Duplicate columns in dF:\", dup_dF)\n",
    "print(\"Duplicate columns in reg_total:\", dup_regTotal)\n"
   ]
  },
  {
   "cell_type": "code",
   "execution_count": 84,
   "id": "e5e4f7ed",
   "metadata": {},
   "outputs": [],
   "source": [
    "# Add suffixes to the duplicate columns in dF\n",
    "dF.rename(columns={\n",
    "    'currency': 'currency_dF',\n",
    "    'symbol': 'symbol_dF',\n",
    "    'value': 'value_dF'\n",
    "}, inplace=True)"
   ]
  },
  {
   "cell_type": "code",
   "execution_count": 85,
   "id": "64460369",
   "metadata": {},
   "outputs": [],
   "source": [
    "# Helper function to make column names unique by appending suffixes\n",
    "def make_unique_columns(df):\n",
    "    seen = {}\n",
    "    new_cols = []\n",
    "    for col in df.columns:\n",
    "        if col in seen:\n",
    "            seen[col] += 1\n",
    "            new_cols.append(f\"{col}_{seen[col]}\")\n",
    "        else:\n",
    "            seen[col] = 0\n",
    "            new_cols.append(col)\n",
    "    df.columns = new_cols\n",
    "    return df"
   ]
  },
  {
   "cell_type": "code",
   "execution_count": 86,
   "id": "0494fc85",
   "metadata": {},
   "outputs": [],
   "source": [
    "# Apply the helper to both DataFrames\n",
    "dF = make_unique_columns(dF)\n",
    "reg_total = make_unique_columns(reg_total)\n",
    "\n",
    "# Now try concatenating again\n",
    "dF2 = pd.concat([dF, reg_total], axis=0, ignore_index=True)"
   ]
  },
  {
   "cell_type": "code",
   "execution_count": null,
   "id": "d2ada844",
   "metadata": {},
   "outputs": [],
   "source": [
    "# Define the target list of columns after concatenation\n",
    "columnsList = ['name','availability',\n",
    " 'average_ratings',\n",
    " 'breadcrumbs',\n",
    " 'category',\n",
    " 'description',\n",
    " 'details',\n",
    " 'image_counter',\n",
    " 'is_video',\n",
    " 'number_of_reviews',\n",
    " 'regular_retail_price',\n",
    " 'discounted_retail_price',\n",
    " 'reviews',\n",
    " 'sale_tag',\n",
    " 'seller_info',\n",
    " 'specifications',\n",
    " 'url',\n",
    " 'variations/list_of_options',\n",
    " 'zipcode',\n",
    " 'currency_dF',\n",
    " 'symbol_dF',\n",
    " #'currency_dF.1',\n",
    " #'symbol_dF.1',\n",
    " #'value_dF.1',\n",
    " 'Number of Pieces',\n",
    " 'Seats up to',\n",
    " 'Dimensions (Overall)',\n",
    " 'Seat Dimensions',\n",
    " 'Seat Back Dimensions',\n",
    " 'Weight',\n",
    " 'Holds up to',\n",
    " 'Material',\n",
    " 'Assembly Details',\n",
    " 'Upholstery',\n",
    " 'Care & Cleaning',\n",
    " 'TCIN',\n",
    " 'UPC',\n",
    " 'Origin',\n",
    " 'WARNING',\n",
    " 'Features',\n",
    " 'Maximum Height, Floor to Seat Top',\n",
    " 'Minimum Height, Floor to Seat Top',\n",
    " 'Height Adjustability',\n",
    " 'Fill Material',\n",
    " 'Includes',\n",
    " 'Seat back height',\n",
    " 'Tabletop Material',\n",
    " 'Frame Color',\n",
    " 'Floor to apron height',\n",
    " 'Tabletop Thickness',\n",
    " 'Tabletop color',\n",
    " 'Table base style',\n",
    " 'Leg Height',\n",
    " 'Street Date',\n",
    " 'Textile Material',\n",
    " 'Arm Height',\n",
    " 'Finish',\n",
    " 'Suggested Age',\n",
    " 'Compartment 1 Type',\n",
    " 'Number of Shelves',\n",
    " 'Number of Doors',\n",
    " 'Drawers',\n",
    " 'Furniture Legs Material',\n",
    " 'Surface Material',\n",
    " 'Piece 1',\n",
    " 'Piece 1 Weight',\n",
    " 'Piece 2',\n",
    " 'Piece 2 Weight',\n",
    " 'Arm Type',\n",
    " 'Piece 3',\n",
    " 'Piece 3 Weight',\n",
    " 'Bed Size',\n",
    " 'Box spring required',\n",
    " 'Seating Piece 1',\n",
    " 'Seating Piece 1 Weight',\n",
    " 'Seating Piece 1 Holds up to',\n",
    " 'Table Piece 1',\n",
    " 'table piece 1 weight',\n",
    " 'Table Piece 1 Floor to Apron Height',\n",
    " 'Table Piece 1 Max Number of Seats',\n",
    " 'Seat Material',\n",
    " 'Seat Cushion Dimensions',\n",
    " 'Required, Not Included',\n",
    " 'Floor to Frame Height',\n",
    " 'Headboard Surface Type',\n",
    " 'Piece 4',\n",
    " 'Piece 4 Weight',\n",
    " 'null']"
   ]
  },
  {
   "cell_type": "code",
   "execution_count": 88,
   "id": "9084d4f1",
   "metadata": {},
   "outputs": [
    {
     "name": "stdout",
     "output_type": "stream",
     "text": [
      "currency_dF_1 : found\n",
      "symbol_dF_1 : found\n",
      "Hardware : found\n"
     ]
    }
   ],
   "source": [
    "# Loop through columns to find any discrepancies\n",
    "for i in range(len(dF2.columns)):\n",
    "    if dF2.columns[i] in columnsList:\n",
    "        continue\n",
    "    else:\n",
    "        print(dF2.columns[i],':','found')\n",
    "for i in range(len(columnsList)):\n",
    "    if columnsList[i] in dF2.columns:\n",
    "        continue\n",
    "    else:\n",
    "        print(columnsList[i],':','found')"
   ]
  },
  {
   "cell_type": "code",
   "execution_count": 89,
   "id": "a73e55f5",
   "metadata": {},
   "outputs": [
    {
     "data": {
      "text/plain": [
       "Index(['availability', 'average_ratings', 'breadcrumbs', 'category',\n",
       "       'description', 'details', 'image_counter', 'is_video', 'name',\n",
       "       'number_of_reviews', 'promo_price', 'regular_price', 'reviews',\n",
       "       'sale_tag', 'seller_info', 'specifications', 'url',\n",
       "       'variations/list_of_options', 'zipcode', 'currency_dF', 'symbol_dF',\n",
       "       'regular_retail_price', 'currency_dF_1', 'symbol_dF_1',\n",
       "       'discounted_retail_price', 'Number of Pieces', 'Seats up to',\n",
       "       'Dimensions (Overall)', 'Seat Dimensions', 'Seat Back Dimensions',\n",
       "       'Weight', 'Holds up to', 'Material', 'Assembly Details', 'Upholstery',\n",
       "       'Care & Cleaning', 'TCIN', 'UPC', 'Origin', 'WARNING', 'Features',\n",
       "       'Maximum Height, Floor to Seat Top',\n",
       "       'Minimum Height, Floor to Seat Top', 'Textile Material',\n",
       "       'Furniture Legs Material', 'Includes', 'Height Adjustability',\n",
       "       'Fill Material', 'Seat back height', 'Tabletop Material', 'Frame Color',\n",
       "       'Floor to apron height', 'Tabletop Thickness', 'Tabletop color',\n",
       "       'Table base style', 'Leg Height', 'Street Date', 'Arm Height', 'Finish',\n",
       "       'Suggested Age', 'Surface Material', 'Piece 1', 'Piece 1 Weight',\n",
       "       'Piece 2', 'Piece 2 Weight', 'Compartment 1 Type', 'Number of Shelves',\n",
       "       'Number of Doors', 'Drawers', 'Arm Type', 'Hardware', 'Piece 3',\n",
       "       'Piece 3 Weight', 'Bed Size', 'Box spring required', 'Seating Piece 1',\n",
       "       'Seating Piece 1 Weight', 'Seating Piece 1 Holds up to',\n",
       "       'Table Piece 1', 'table piece 1 weight',\n",
       "       'Table Piece 1 Floor to Apron Height',\n",
       "       'Table Piece 1 Max Number of Seats', 'Seat Material',\n",
       "       'Seat Cushion Dimensions', 'Required, Not Included',\n",
       "       'Floor to Frame Height', 'Headboard Surface Type', 'Piece 4',\n",
       "       'Piece 4 Weight', 'null'],\n",
       "      dtype='object')"
      ]
     },
     "execution_count": 89,
     "metadata": {},
     "output_type": "execute_result"
    }
   ],
   "source": [
    "dF2.columns"
   ]
  },
  {
   "cell_type": "code",
   "execution_count": 91,
   "id": "097f97bb",
   "metadata": {},
   "outputs": [],
   "source": [
    "# Select the target columns in the desired order\n",
    "dF2 = dF2[columnsList]"
   ]
  },
  {
   "cell_type": "code",
   "execution_count": 100,
   "id": "be058bdc",
   "metadata": {},
   "outputs": [
    {
     "data": {
      "text/plain": [
       "0        247.99\n",
       "1        116.99\n",
       "2        163.99\n",
       "3        189.99\n",
       "4       1999.99\n",
       "         ...   \n",
       "1057        NaN\n",
       "1058        NaN\n",
       "1059        NaN\n",
       "1060        NaN\n",
       "1061        NaN\n",
       "Name: regular_retail_price, Length: 1062, dtype: float64"
      ]
     },
     "execution_count": 100,
     "metadata": {},
     "output_type": "execute_result"
    }
   ],
   "source": [
    "dF2['regular_retail_price']"
   ]
  },
  {
   "cell_type": "markdown",
   "id": "60b5e977",
   "metadata": {},
   "source": [
    "## 5. Finalize DataFrame and Export to Excel"
   ]
  },
  {
   "cell_type": "code",
   "execution_count": 92,
   "id": "0f8268ab",
   "metadata": {},
   "outputs": [],
   "source": [
    "# Export the processed DataFrame \n",
    "dF2.to_excel('../data/processed/target_retail_data_3132025.xlsx')"
   ]
  },
  {
   "cell_type": "code",
   "execution_count": 99,
   "id": "10e8ab66",
   "metadata": {},
   "outputs": [
    {
     "data": {
      "text/plain": [
       "Index(['name', 'availability', 'average_ratings', 'breadcrumbs', 'category',\n",
       "       'description', 'details', 'image_counter', 'is_video',\n",
       "       'number_of_reviews', 'promo_price', 'regular_price', 'reviews',\n",
       "       'sale_tag', 'seller_info', 'specifications', 'url',\n",
       "       'variations/list_of_options', 'zipcode', 'regular_retail_price',\n",
       "       'discounted_retail_price', 'currency_dF', 'symbol_dF',\n",
       "       'Number of Pieces', 'Seats up to', 'Dimensions (Overall)',\n",
       "       'Seat Dimensions', 'Seat Back Dimensions', 'Weight', 'Holds up to',\n",
       "       'Material', 'Assembly Details', 'Upholstery', 'Care & Cleaning', 'TCIN',\n",
       "       'UPC', 'Origin', 'WARNING', 'Features',\n",
       "       'Maximum Height, Floor to Seat Top',\n",
       "       'Minimum Height, Floor to Seat Top', 'Height Adjustability',\n",
       "       'Fill Material', 'Includes', 'Seat back height', 'Tabletop Material',\n",
       "       'Frame Color', 'Floor to apron height', 'Tabletop Thickness',\n",
       "       'Tabletop color', 'Table base style', 'Leg Height', 'Street Date',\n",
       "       'Textile Material', 'Arm Height', 'Finish', 'Suggested Age',\n",
       "       'Compartment 1 Type', 'Number of Shelves', 'Number of Doors', 'Drawers',\n",
       "       'Furniture Legs Material', 'Surface Material', 'Piece 1',\n",
       "       'Piece 1 Weight', 'Piece 2', 'Piece 2 Weight', 'Arm Type', 'Piece 3',\n",
       "       'Piece 3 Weight', 'Bed Size', 'Box spring required', 'Seating Piece 1',\n",
       "       'Seating Piece 1 Weight', 'Seating Piece 1 Holds up to',\n",
       "       'Table Piece 1', 'table piece 1 weight',\n",
       "       'Table Piece 1 Floor to Apron Height',\n",
       "       'Table Piece 1 Max Number of Seats', 'Seat Material',\n",
       "       'Seat Cushion Dimensions', 'Required, Not Included',\n",
       "       'Floor to Frame Height', 'Headboard Surface Type', 'Piece 4',\n",
       "       'Piece 4 Weight', 'null'],\n",
       "      dtype='object')"
      ]
     },
     "execution_count": 99,
     "metadata": {},
     "output_type": "execute_result"
    }
   ],
   "source": [
    "dF2.columns"
   ]
  },
  {
   "cell_type": "markdown",
   "id": "14469f2f",
   "metadata": {},
   "source": [
    "## 6. Load Excel Workbook and Apply Styling"
   ]
  },
  {
   "cell_type": "code",
   "execution_count": 93,
   "id": "c6be3ccf",
   "metadata": {},
   "outputs": [],
   "source": [
    "# Load the exported Excel workbook\n",
    "wb =load_workbook(filename = '../data/processed/target_retail_data_3132025.xlsx')\n",
    "\n",
    "# Select the active worksheet\n",
    "ws = wb.active\n",
    "\n",
    "# Apply an auto-filter\n",
    "ws.auto_filter.ref = ws.dimensions"
   ]
  },
  {
   "cell_type": "code",
   "execution_count": 94,
   "id": "bbf06392",
   "metadata": {},
   "outputs": [],
   "source": [
    "# Define a header font style\n",
    "font = Font(size=15, bold=True, italic=False, vertAlign=None, underline='none', strike=False, color='FF000000')\n",
    "\n",
    "# Define text wrapping alignment\n",
    "wrap = Alignment(wrapText=True,horizontal='left')\n",
    "\n",
    "# Define left alignment for cells\n",
    "left_alignment = Alignment(horizontal='left')\n",
    "\n",
    "# Define a fill pattern for header cells\n",
    "fill = PatternFill(\"solid\", fgColor=\"00CCFFCC\")\n",
    "\n",
    "# Define thin borders for cells\n",
    "top=Side(border_style='thin',color=\"FF000000\")\n",
    "bottom=Side(border_style='thin', color=\"FF000000\")\n",
    "left = Side(border_style='thin', color=\"FF000000\")\n",
    "right = Side(border_style='thin', color=\"FF000000\")\n",
    "border=Border(top=top,bottom=bottom,left=left,right=right)"
   ]
  },
  {
   "cell_type": "code",
   "execution_count": 95,
   "id": "91c885f8",
   "metadata": {},
   "outputs": [],
   "source": [
    "# Get the total number of rows in the worksheet\n",
    "last_row = ws.max_row\n",
    "\n",
    "# Set a standard row height for all rows\n",
    "for i in range(2,last_row+1):\n",
    "    ws.row_dimensions[i].height = 15\n",
    "\n",
    "# Apply number formatting to specific columns\n",
    "for col in [\"G\", \"I\", \"J\", \"K\", \"O\", \"P\"]:\n",
    "    for cell in ws[col]:\n",
    "        cell.number_format = numbers.FORMAT_NUMBER\n",
    "\n",
    "# Apply left alignment to every cell\n",
    "for rows in ws.iter_rows(min_row=1, max_row=last_row, min_col=None):\n",
    "    for cell in rows:\n",
    "         cell.alignment = left_alignment\n",
    "         cell.border = border\n",
    "\n",
    "# Format the header row\n",
    "for cell in ws[\"1:1\"]:\n",
    "    cell.font = font\n",
    "    cell.fill = fill"
   ]
  },
  {
   "cell_type": "markdown",
   "id": "9fd3bf97",
   "metadata": {},
   "source": [
    "## 7. Apply Additional Alignment for Specific Columns"
   ]
  },
  {
   "cell_type": "code",
   "execution_count": 96,
   "id": "df6713e6",
   "metadata": {},
   "outputs": [],
   "source": [
    "# Enable text wrapping for specific columns\n",
    "for col in ['C', 'H', 'S']:\n",
    "    for cell in ws[col]:\n",
    "        cell.alignment = wrap"
   ]
  },
  {
   "cell_type": "markdown",
   "id": "42992053",
   "metadata": {},
   "source": [
    "## 8. Freeze Panes and Set Column Widths"
   ]
  },
  {
   "cell_type": "code",
   "execution_count": 97,
   "id": "cebd155e",
   "metadata": {},
   "outputs": [],
   "source": [
    "# Freeze panes to keep the header visible\n",
    "ws.freeze_panes = ws[\"B2\"]\n",
    "\n",
    "# Define column widths\n",
    "col_widths = {\n",
    "    \"B\": 20, \"C\": 60, \"D\": 20, \"E\": 20, \"F\": 20,\n",
    "    \"G\": 20, \"H\": 60, \"I\": 20, \"J\": 20, \"K\": 20,\n",
    "    \"L\": 30, \"M\": 20, \"N\": 20, \"O\": 20, \"P\": 20,\n",
    "    \"Q\": 20, \"R\": 60, \"S\": 20, \"T\": 20, \"U\": 20,\n",
    "    \"V\": 20, \"W\": 20, \"X\": 20, \"Y\": 20, \"Z\": 20\n",
    "}\n",
    "\n",
    "# Apply column widths\n",
    "for col, width in col_widths.items():\n",
    "    ws.column_dimensions[col].width = width"
   ]
  },
  {
   "cell_type": "markdown",
   "id": "46fbcf88",
   "metadata": {},
   "source": [
    "## 9. Save the Styled Workbook"
   ]
  },
  {
   "cell_type": "code",
   "execution_count": 98,
   "id": "e6153299",
   "metadata": {},
   "outputs": [],
   "source": [
    "wb.save(\"../data/processed/target_retail_data_3132025_styled.xlsx\")"
   ]
  }
 ],
 "metadata": {
  "kernelspec": {
   "display_name": "Python 3 (ipykernel)",
   "language": "python",
   "name": "python3"
  },
  "language_info": {
   "codemirror_mode": {
    "name": "ipython",
    "version": 3
   },
   "file_extension": ".py",
   "mimetype": "text/x-python",
   "name": "python",
   "nbconvert_exporter": "python",
   "pygments_lexer": "ipython3",
   "version": "3.10.9"
  }
 },
 "nbformat": 4,
 "nbformat_minor": 5
}
