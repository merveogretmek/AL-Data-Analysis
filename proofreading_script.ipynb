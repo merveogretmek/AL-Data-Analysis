{
 "cells": [
  {
   "cell_type": "markdown",
   "metadata": {},
   "source": [
    "# Proofreading Script"
   ]
  },
  {
   "cell_type": "markdown",
   "metadata": {},
   "source": [
    "## Libraries"
   ]
  },
  {
   "cell_type": "code",
   "execution_count": 56,
   "metadata": {},
   "outputs": [],
   "source": [
    "# Import the libraries\n",
    "import pandas as pd\n",
    "import math\n",
    "import re"
   ]
  },
  {
   "cell_type": "markdown",
   "metadata": {},
   "source": [
    "## Data"
   ]
  },
  {
   "cell_type": "code",
   "execution_count": 57,
   "metadata": {},
   "outputs": [
    {
     "name": "stderr",
     "output_type": "stream",
     "text": [
      "/Library/Frameworks/Python.framework/Versions/3.10/lib/python3.10/site-packages/openpyxl/worksheet/_reader.py:329: UserWarning: Data Validation extension is not supported and will be removed\n",
      "  warn(msg)\n"
     ]
    }
   ],
   "source": [
    "# Path to the Excel file\n",
    "file_path = \"/Users/merveogretmek/Desktop/AL/March/14th/Proofreading/CT-BA-25-001_3132025.xlsx\"\n",
    "\n",
    "# Load the Excel file into a DataFrame\n",
    "df = pd.read_excel(file_path, skiprows=[1,2])\n",
    "\n",
    "# Set display option to show full text in columns\n",
    "pd.set_option('display.max_colwidth', None)"
   ]
  },
  {
   "cell_type": "markdown",
   "metadata": {},
   "source": [
    "## Functions"
   ]
  },
  {
   "cell_type": "markdown",
   "metadata": {},
   "source": [
    "### Custom Rounding Functions"
   ]
  },
  {
   "cell_type": "code",
   "execution_count": 58,
   "metadata": {},
   "outputs": [],
   "source": [
    "# --- Custom Rounding for Seat Height (for Product Name & Description) ---\n",
    "def custom_round_seat_height(attr_value: str) -> str:\n",
    "    \"\"\"\n",
    "    For the Product Name and Description checks:\n",
    "      - If the value is between 25 and 26 (exclusive), round up to 26.\n",
    "      - If the value is between 30 and 31 (exclusive), round down to 30.\n",
    "      - Otherwise, use standard rounding (nearest integer).\n",
    "    Returns the rounded value as a string.\n",
    "    \"\"\"\n",
    "    try:\n",
    "        val = float(attr_value)\n",
    "    except ValueError:\n",
    "        return attr_value.lower()  # fallback if conversion fails\n",
    "    if 25 < val < 26:\n",
    "        normalized_val = 26\n",
    "    elif 30 < val < 31:\n",
    "        normalized_val = 30\n",
    "    else:\n",
    "        normalized_val = int(round(val))\n",
    "    return str(normalized_val)"
   ]
  },
  {
   "cell_type": "code",
   "execution_count": 59,
   "metadata": {},
   "outputs": [],
   "source": [
    "# --- Custom Rounding for Dimensions (for Bullet Feature) ---\n",
    "def custom_round_dimension(val: float) -> int:\n",
    "    \"\"\"\n",
    "    For dimension values:\n",
    "      - If the value is between 39 and 40, always round up to 40.\n",
    "      - If the value is between 19 and 20, always round up to 20.\n",
    "      - Otherwise, use standard mathematical rounding.\n",
    "    \"\"\"\n",
    "    if 39 < val < 40:\n",
    "        return 40\n",
    "    elif 19 < val < 20:\n",
    "        return 20\n",
    "    else:\n",
    "        return int(round(val))"
   ]
  },
  {
   "cell_type": "markdown",
   "metadata": {},
   "source": [
    "### Product Name Check"
   ]
  },
  {
   "cell_type": "code",
   "execution_count": 60,
   "metadata": {},
   "outputs": [],
   "source": [
    "# --- Product Name Check ---\n",
    "prod_attributes = [\n",
    "    \"Collection Name\",\n",
    "    \"Seat Height 1\",\n",
    "    \"Finish Color\",\n",
    "    \"Manufactured Woods Use\",\n",
    "    \"General Category\",\n",
    "    \"Upholstery Color\"\n",
    "]\n",
    "\n",
    "def check_product_name(row):\n",
    "    \"\"\"\n",
    "    Verify that each attribute's value appears in the 'Individual Product Name'.\n",
    "    For 'Seat Height 1', the custom rounding is applied.\n",
    "    \"\"\"\n",
    "    product_name = str(row[\"Individual Product Name\"]).lower() if pd.notna(row[\"Individual Product Name\"]) else \"\"\n",
    "    mismatches = {}\n",
    "    for attr in prod_attributes:\n",
    "        attr_value = str(row[attr]) if pd.notna(row[attr]) else \"\"\n",
    "        if not attr_value:\n",
    "            continue\n",
    "        if attr == \"Seat Height 1\":\n",
    "            normalized_attr = custom_round_seat_height(attr_value)\n",
    "            if normalized_attr not in product_name:\n",
    "                mismatches[attr] = attr_value\n",
    "        else:\n",
    "            if attr_value.lower() not in product_name:\n",
    "                mismatches[attr] = attr_value\n",
    "    return mismatches\n",
    "\n",
    "df[\"Product_Name_Mismatches\"] = df.apply(check_product_name, axis=1)"
   ]
  },
  {
   "cell_type": "markdown",
   "metadata": {},
   "source": [
    "### Description Check"
   ]
  },
  {
   "cell_type": "code",
   "execution_count": 61,
   "metadata": {},
   "outputs": [],
   "source": [
    "# --- Description Check ---\n",
    "desc_attributes = [\n",
    "    \"Collection Name\",\n",
    "    \"Seat Height 1\",\n",
    "    \"General Category\",\n",
    "    \"Upholstery Color\",\n",
    "    \"Finish Color\",\n",
    "    \"Manufactured Woods Use\"\n",
    "]\n",
    "\n",
    "def check_description(row):\n",
    "    \"\"\"\n",
    "    Verify that each attribute's value appears in the 'Description' column.\n",
    "    For 'Seat Height 1', the custom rounding is applied.\n",
    "    \"\"\"\n",
    "    description = str(row[\"Description\"]).lower() if pd.notna(row[\"Description\"]) else \"\"\n",
    "    mismatches = {}\n",
    "    for attr in desc_attributes:\n",
    "        attr_value = str(row[attr]) if pd.notna(row[attr]) else \"\"\n",
    "        if not attr_value:\n",
    "            continue\n",
    "        if attr == \"Seat Height 1\":\n",
    "            normalized_attr = custom_round_seat_height(attr_value)\n",
    "            if normalized_attr not in description:\n",
    "                mismatches[attr] = attr_value\n",
    "        else:\n",
    "            if attr_value.lower() not in description:\n",
    "                mismatches[attr] = attr_value\n",
    "    return mismatches\n",
    "\n",
    "df[\"Description_Mismatches\"] = df.apply(check_description, axis=1)"
   ]
  },
  {
   "cell_type": "markdown",
   "metadata": {},
   "source": [
    "### Tolerance (<=1) "
   ]
  },
  {
   "cell_type": "code",
   "execution_count": 62,
   "metadata": {},
   "outputs": [],
   "source": [
    "# --- Helper Function for Comparing Numeric Values with Tolerance ---\n",
    "def compare_with_tolerance(bullet_val, exp_val, tol = 1):\n",
    "    \"\"\"\n",
    "    Compares two numeric values (given as strings) after converting to integers.\n",
    "    Returns a mismatch message if the absolute difference is greater than tol;\n",
    "    otherwise returns None.\n",
    "    If conversion fails, falls back to a simple string comparison.\n",
    "    \"\"\"\n",
    "    try:\n",
    "        bullet_num = int(bullet_val)\n",
    "        exp_num = int(exp_val)\n",
    "        if abs(bullet_num - exp_num) > tol:\n",
    "            return f\"Bullet: {bullet_val} vs Expected: {exp_val}\"\n",
    "    except Exception:\n",
    "        if bullet_val != exp_val:\n",
    "            return f\"Bullet: {bullet_val} vs Expected: {exp_val}\"\n",
    "    \n",
    "    return None"
   ]
  },
  {
   "cell_type": "markdown",
   "metadata": {},
   "source": [
    "### Bullet Feature 1 Check"
   ]
  },
  {
   "cell_type": "code",
   "execution_count": 63,
   "metadata": {},
   "outputs": [],
   "source": [
    "# --- Bullet Feature 1 Parsing ---\n",
    "def parse_bullet_feature(bullet_str):\n",
    "    \"\"\"\n",
    "    Parses the Bullet Feature 1 string into its parts:\n",
    "      - Depth, Width, Height from the Dimension (expected in the format: \n",
    "        Dimension: {depth}\" x {width}\" x {height}\")\n",
    "      - Seat Height from the text (expected as: Seat Height: {seat}\").\n",
    "    Returns a dictionary with keys: Bullet_Depth, Bullet_Width, Bullet_Height, Bullet_Seat_Height.\n",
    "    \"\"\"\n",
    "    if not bullet_str or not isinstance(bullet_str, str):\n",
    "        return {\"Bullet_Depth\": \"\", \"Bullet_Width\": \"\", \"Bullet_Height\": \"\", \"Bullet_Seat_Height\": \"\"}\n",
    "    bullet_str_lower = bullet_str.lower()\n",
    "    # Parse the dimension part\n",
    "    m = re.search(r'dimension:\\s*(\\d+)\"\\s*x\\s*(\\d+)\"\\s*x\\s*(\\d+)\"', bullet_str_lower)\n",
    "    if m:\n",
    "        bullet_depth = m.group(1)\n",
    "        bullet_width = m.group(2)\n",
    "        bullet_height = m.group(3)\n",
    "    else:\n",
    "        bullet_depth = bullet_width = bullet_height = \"\"\n",
    "    # Parse the seat height part\n",
    "    m_seat = re.search(r'seat height:\\s*(\\d+)\"', bullet_str_lower)\n",
    "    bullet_seat = m_seat.group(1) if m_seat else \"\"\n",
    "    return {\"Bullet_Depth\": bullet_depth, \"Bullet_Width\": bullet_width,\n",
    "            \"Bullet_Height\": bullet_height, \"Bullet_Seat_Height\": bullet_seat}\n",
    "\n",
    "# Create temporary bullet feature columns by parsing the Bullet Feature 1 text\n",
    "bullet_features = df[\"Bullet Feature 1\"].apply(parse_bullet_feature)\n",
    "bullet_features_df = pd.DataFrame(bullet_features.tolist())\n",
    "df = pd.concat([df, bullet_features_df], axis=1)\n",
    "\n",
    "def check_bullet_feature_details(row):\n",
    "    \"\"\"\n",
    "    Compare each extracted bullet feature part with the expected values computed from the original columns.\n",
    "    For the Bullet Feature:\n",
    "      - Depth, Width, Height are computed from Product Depth/Width/Height using custom_round_dimension.\n",
    "      - Seat Height is computed using standard mathematical rounding.\n",
    "    Returns a dictionary indicating mismatches for each part.\n",
    "    \"\"\"\n",
    "    # Expected values from original columns (using custom rounding for dimensions)\n",
    "    try:\n",
    "        exp_depth = str(custom_round_dimension(float(row[\"Product Depth 1\"])))\n",
    "    except (ValueError, TypeError):\n",
    "        exp_depth = \"\"\n",
    "    try:\n",
    "        exp_width = str(custom_round_dimension(float(row[\"Product Width 1\"])))\n",
    "    except (ValueError, TypeError):\n",
    "        exp_width = \"\"\n",
    "    try:\n",
    "        exp_height = str(custom_round_dimension(float(row[\"Product Height 1\"])))\n",
    "    except (ValueError, TypeError):\n",
    "        exp_height = \"\"\n",
    "    try:\n",
    "        exp_seat = str(int(round(float(row[\"Seat Height 1\"]))))\n",
    "    except (ValueError, TypeError):\n",
    "        exp_seat = \"\"\n",
    "    \n",
    "    # Parsed values from Bullet Feature 1\n",
    "    bullet_depth = str(row.get(\"Bullet_Depth\", \"\"))\n",
    "    bullet_width = str(row.get(\"Bullet_Width\", \"\"))\n",
    "    bullet_height = str(row.get(\"Bullet_Height\", \"\"))\n",
    "    bullet_seat = str(row.get(\"Bullet_Seat_Height\", \"\"))\n",
    "    \n",
    "    details = {}\n",
    "    diff = compare_with_tolerance(bullet_depth, exp_depth, tol=1)\n",
    "    if diff:\n",
    "        details['Depth'] = diff\n",
    "    diff = compare_with_tolerance(bullet_width, exp_width, tol=1)\n",
    "    if diff:\n",
    "        details['Width'] = diff\n",
    "    diff = compare_with_tolerance(bullet_height, exp_height, tol=1)\n",
    "    if diff:\n",
    "        details['Height'] = diff\n",
    "    diff = compare_with_tolerance(bullet_seat, exp_seat, tol=1)\n",
    "    if diff:\n",
    "        details['Seat Height'] = diff\n",
    "        \n",
    "    return details\n",
    "\n",
    "df[\"Bullet_Feature_Details\"] = df.apply(check_bullet_feature_details, axis=1)"
   ]
  },
  {
   "cell_type": "markdown",
   "metadata": {},
   "source": [
    "## Mismatch Results"
   ]
  },
  {
   "cell_type": "code",
   "execution_count": 64,
   "metadata": {},
   "outputs": [
    {
     "name": "stdout",
     "output_type": "stream",
     "text": [
      "Product Name mismatches:\n",
      "                                                 Individual Product Name  \\\n",
      "4  Elle 26 in. Counter Height Rubberwood Barstool with Ivory Fabric Seat   \n",
      "\n",
      "          Product_Name_Mismatches  \n",
      "4  {'Finish Color': 'Amber Glow'}  \n",
      "\n",
      "Description mismatches:\n",
      "Empty DataFrame\n",
      "Columns: [Description, Description_Mismatches]\n",
      "Index: []\n",
      "\n",
      "Bullet Feature Breakdown Mismatches:\n",
      "                                Bullet Feature 1  \\\n",
      "4  Dimension: 22\" x 21\" x 33\" - Seat Height: 26\"   \n",
      "\n",
      "                                                                                                   Bullet_Feature_Details  \n",
      "4  {'Depth': 'Bullet: 22 vs Expected: 20', 'Width': 'Bullet: 21 vs Expected: 18', 'Height': 'Bullet: 33 vs Expected: 40'}  \n"
     ]
    }
   ],
   "source": [
    "# Product Name mismatches\n",
    "print(\"Product Name mismatches:\")\n",
    "print(df[[\"Individual Product Name\", \"Product_Name_Mismatches\"]][df[\"Product_Name_Mismatches\"].apply(lambda x: len(x) > 0)])\n",
    "\n",
    "# Description mismatches\n",
    "print(\"\\nDescription mismatches:\")\n",
    "print(df[[\"Description\", \"Description_Mismatches\"]][df[\"Description_Mismatches\"].apply(lambda x: len(x) > 0)])\n",
    "\n",
    "# Bullet Feature mismatches (showing breakdown details)\n",
    "print(\"\\nBullet Feature Breakdown Mismatches:\")\n",
    "bullet_mismatch_df = df[df[\"Bullet_Feature_Details\"].apply(lambda x: len(x) > 0)]\n",
    "print(bullet_mismatch_df[[\"Bullet Feature 1\", \"Bullet_Feature_Details\"]])"
   ]
  }
 ],
 "metadata": {
  "kernelspec": {
   "display_name": "Python 3",
   "language": "python",
   "name": "python3"
  },
  "language_info": {
   "codemirror_mode": {
    "name": "ipython",
    "version": 3
   },
   "file_extension": ".py",
   "mimetype": "text/x-python",
   "name": "python",
   "nbconvert_exporter": "python",
   "pygments_lexer": "ipython3",
   "version": "3.10.9"
  }
 },
 "nbformat": 4,
 "nbformat_minor": 2
}
