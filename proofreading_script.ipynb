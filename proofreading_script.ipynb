{
 "cells": [
  {
   "cell_type": "markdown",
   "metadata": {},
   "source": [
    "# Proofreading Script"
   ]
  },
  {
   "cell_type": "code",
   "execution_count": 44,
   "metadata": {},
   "outputs": [],
   "source": [
    "# Import necessary libraries\n",
    "import pandas as pd\n",
    "import re"
   ]
  },
  {
   "cell_type": "code",
   "execution_count": 45,
   "metadata": {},
   "outputs": [],
   "source": [
    "# Apply custom rounding rule\n",
    "def custom_round_seat_height(attr_value: str) -> str:\n",
    "    try:\n",
    "        val = float(attr_value)\n",
    "    except ValueError:\n",
    "        return attr_value.lower()\n",
    "    \n",
    "    if 25 < val < 26:\n",
    "        normalized_val = 26\n",
    "    elif 30 < val < 31:\n",
    "        normalized_val = 30\n",
    "    else:\n",
    "        normalized_val = int(round(val))\n",
    "    return str(normalized_val)"
   ]
  },
  {
   "cell_type": "code",
   "execution_count": 46,
   "metadata": {},
   "outputs": [],
   "source": [
    "# Define the main product column and the attributes to check\n",
    "product_col = \"Individual Product Name\"\n",
    "attributes = [\n",
    "    \"Collection Name\",\n",
    "    \"Seat Height 1\",\n",
    "    \"Finish Color\",\n",
    "    \"Manufactured Woods Use\",\n",
    "    \"General Category\",\n",
    "    \"Upholstery Color\"\n",
    "]"
   ]
  },
  {
   "cell_type": "markdown",
   "metadata": {},
   "source": [
    "## Functions"
   ]
  },
  {
   "cell_type": "code",
   "execution_count": 47,
   "metadata": {},
   "outputs": [],
   "source": [
    "# Convert all numeric tokens to a standardized format\n",
    "def normalize_numbers_in_strings(s: str, precision: int = 2) -> str:\n",
    "\n",
    "    def repl(match):\n",
    "        try:\n",
    "            num = float(match.group())\n",
    "            return f\"{num:.{precision}f}\"\n",
    "        except Exception:\n",
    "            return match.group()\n",
    "        \n",
    "    return re.sub(r'\\d+(?:\\.\\d+)?', repl, s)"
   ]
  },
  {
   "cell_type": "code",
   "execution_count": 48,
   "metadata": {},
   "outputs": [],
   "source": [
    "# Check if each attribute's value appears in the product name\n",
    "def check_attributes(row):\n",
    "    \n",
    "    product_name = str(row[product_col]).lower() if pd.notna(row[product_col]) else \"\"\n",
    "\n",
    "    mismatches = {}\n",
    "\n",
    "    for attr in attributes:\n",
    "        attr_value = str(row[attr]) if pd.notna(row[attr]) else \"\"\n",
    "        if not attr_value:\n",
    "            continue\n",
    "\n",
    "        if attr == \"Seat Height 1\":\n",
    "            normalized_attr = custom_round_seat_height(attr_value)\n",
    "            if normalized_attr not in product_name:\n",
    "                mismatches[attr] = attr_value\n",
    "        else:\n",
    "            if attr_value.lower() not in product_name:\n",
    "                mismatches[attr] = attr_value\n",
    "\n",
    "    return mismatches"
   ]
  },
  {
   "cell_type": "code",
   "execution_count": 49,
   "metadata": {},
   "outputs": [
    {
     "name": "stderr",
     "output_type": "stream",
     "text": [
      "/Library/Frameworks/Python.framework/Versions/3.10/lib/python3.10/site-packages/openpyxl/worksheet/_reader.py:329: UserWarning: Data Validation extension is not supported and will be removed\n",
      "  warn(msg)\n"
     ]
    }
   ],
   "source": [
    "# Load the data \n",
    "file_path = \"CT-BA-25-001_3132025.xlsx\"\n",
    "df = pd.read_excel(file_path, skiprows=[1,2])"
   ]
  },
  {
   "cell_type": "code",
   "execution_count": 50,
   "metadata": {},
   "outputs": [],
   "source": [
    "# Apply the check to each row\n",
    "df['Attribute_Mismatches'] = df.apply(check_attributes, axis=1)"
   ]
  },
  {
   "cell_type": "code",
   "execution_count": 51,
   "metadata": {},
   "outputs": [
    {
     "name": "stdout",
     "output_type": "stream",
     "text": [
      "                                                 Individual Product Name  \\\n",
      "4  Elle 26 in. Counter Height Rubberwood Barstool with Ivory Fabric Seat   \n",
      "\n",
      "             Attribute_Mismatches  \n",
      "4  {'Finish Color': 'Amber Glow'}  \n"
     ]
    }
   ],
   "source": [
    "mismatch_df = df[df['Attribute_Mismatches'].apply(lambda x: len(x) > 0)]\n",
    "\n",
    "pd.set_option('display.max_colwidth', None)\n",
    "\n",
    "print(mismatch_df[[product_col, 'Attribute_Mismatches']])"
   ]
  }
 ],
 "metadata": {
  "kernelspec": {
   "display_name": "Python 3",
   "language": "python",
   "name": "python3"
  },
  "language_info": {
   "codemirror_mode": {
    "name": "ipython",
    "version": 3
   },
   "file_extension": ".py",
   "mimetype": "text/x-python",
   "name": "python",
   "nbconvert_exporter": "python",
   "pygments_lexer": "ipython3",
   "version": "3.10.9"
  }
 },
 "nbformat": 4,
 "nbformat_minor": 2
}
