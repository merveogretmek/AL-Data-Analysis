{
 "cells": [
  {
   "cell_type": "markdown",
   "id": "f581991a",
   "metadata": {},
   "source": [
    "# Houzz Data Cleaning Automation Tool\n",
    "\n",
    "## Overview\n",
    "\n",
    "This notebook automates the process of cleaning and transforming data for Houzz product listings. The objective is to ensure the data meets required quality standards before analysis and reporting.\n",
    "\n",
    "Key tasks include:\n",
    "- Loading CSV data\n",
    "- Renaming columns and selecting key columns\n",
    "- Handling missing values and cleaning string data\n",
    "- Parsing JSON-like fields\n",
    "- Merging parsed data back into the main DataFrame\n",
    "- Exporting the final dataset to Excel and applying styling"
   ]
  },
  {
   "cell_type": "markdown",
   "id": "a6704d86",
   "metadata": {},
   "source": [
    "Following has applied to improve efficiency:\n",
    "- Remove unused imports\n",
    "- Consolidate and vectorize DF operations\n",
    "    - Vectorized string replacement instead of loops \n",
    "    - List comprehension replacement to parse price columns \n",
    "    - List comprehension replacement to build DFs from specifications\n",
    "- Optimize combinations field handling\n",
    "    - Combiner function directly applied\n",
    "    - Using built-in explode mode instead of loops\n",
    "- Streamline Excel styling\n",
    "    - Combine alignment and borders in one loop\n",
    "    - Use a loop for column-specific operations\n",
    "    - Use dictionaries for column widths and number formats"
   ]
  },
  {
   "cell_type": "markdown",
   "id": "b9adf0b9",
   "metadata": {},
   "source": [
    "## 1. Import Libraries and Load Data"
   ]
  },
  {
   "cell_type": "code",
   "execution_count": 5,
   "id": "8c127bbb",
   "metadata": {},
   "outputs": [],
   "source": [
    "# Import necessary libraries\n",
    "import pandas as pd\n",
    "import ast\n",
    "from itertools import repeat\n",
    "from openpyxl import load_workbook\n",
    "from openpyxl.styles import PatternFill, Border, Side, Alignment, Font\n",
    "from openpyxl.styles import numbers"
   ]
  },
  {
   "cell_type": "code",
   "execution_count": 6,
   "id": "e9417415",
   "metadata": {},
   "outputs": [],
   "source": [
    "# Load the CSV file\n",
    "df = pd.read_csv(\"../data/raw/snap_m82yajnh2ozqyqbwdf.csv\")"
   ]
  },
  {
   "cell_type": "markdown",
   "id": "bfe0ecb8",
   "metadata": {},
   "source": [
    "## 2. Data Cleaning and Preprocessing"
   ]
  },
  {
   "cell_type": "code",
   "execution_count": 7,
   "id": "c0fcff25",
   "metadata": {},
   "outputs": [],
   "source": [
    "# Rename columns\n",
    "df = df.rename(columns={'SKU_number':'SKU',\n",
    "                        'name':'product_name',\n",
    "                        'regular_price':'regular_retail_price',\n",
    "                        'promo_price':'discounted_retail_price',\n",
    "                        'avrega_rating':'average_rating',\n",
    "                        'combnations':'combinations'})"
   ]
  },
  {
   "cell_type": "code",
   "execution_count": 8,
   "id": "0b158262",
   "metadata": {},
   "outputs": [],
   "source": [
    "# Define the list of columns to retain\n",
    "column_list = ['SKU', 'category','breadcrumbs','product_name', 'availability', 'sale_tag','regular_retail_price', 'discounted_retail_price','image_count',\n",
    "       'product_description', 'product_specifications','number_of_reviews','average_rating', 'is_video',  'combinations','shipping_and_returns','reviews','url']\n",
    "\n",
    "# Keep only the specified columns\n",
    "df = df[column_list]"
   ]
  },
  {
   "cell_type": "code",
   "execution_count": 9,
   "id": "2e0fe965",
   "metadata": {},
   "outputs": [
    {
     "name": "stderr",
     "output_type": "stream",
     "text": [
      "/var/folders/1p/063yl0ms01z8skkqfmk94z9c0000gn/T/ipykernel_51416/3697702336.py:2: FutureWarning: A value is trying to be set on a copy of a DataFrame or Series through chained assignment using an inplace method.\n",
      "The behavior will change in pandas 3.0. This inplace method will never work because the intermediate object on which we are setting values always behaves as a copy.\n",
      "\n",
      "For example, when doing 'df[col].method(value, inplace=True)', try using 'df.method({col: value}, inplace=True)' or df[col] = df[col].method(value) instead, to perform the operation inplace on the original object.\n",
      "\n",
      "\n",
      "  df['SKU'].fillna('None',inplace=True)\n",
      "/var/folders/1p/063yl0ms01z8skkqfmk94z9c0000gn/T/ipykernel_51416/3697702336.py:5: FutureWarning: A value is trying to be set on a copy of a DataFrame or Series through chained assignment using an inplace method.\n",
      "The behavior will change in pandas 3.0. This inplace method will never work because the intermediate object on which we are setting values always behaves as a copy.\n",
      "\n",
      "For example, when doing 'df[col].method(value, inplace=True)', try using 'df.method({col: value}, inplace=True)' or df[col] = df[col].method(value) instead, to perform the operation inplace on the original object.\n",
      "\n",
      "\n",
      "  df['regular_retail_price'].fillna('{\"value\":0,\"currency\":\"USD\",\"symbol\":\"$\"}',inplace=True)\n",
      "/var/folders/1p/063yl0ms01z8skkqfmk94z9c0000gn/T/ipykernel_51416/3697702336.py:8: FutureWarning: A value is trying to be set on a copy of a DataFrame or Series through chained assignment using an inplace method.\n",
      "The behavior will change in pandas 3.0. This inplace method will never work because the intermediate object on which we are setting values always behaves as a copy.\n",
      "\n",
      "For example, when doing 'df[col].method(value, inplace=True)', try using 'df.method({col: value}, inplace=True)' or df[col] = df[col].method(value) instead, to perform the operation inplace on the original object.\n",
      "\n",
      "\n",
      "  df['discounted_retail_price'].fillna('{\"value\":0,\"currency\":\"USD\",\"symbol\":\"$\"}',inplace=True)\n",
      "/var/folders/1p/063yl0ms01z8skkqfmk94z9c0000gn/T/ipykernel_51416/3697702336.py:11: FutureWarning: A value is trying to be set on a copy of a DataFrame or Series through chained assignment using an inplace method.\n",
      "The behavior will change in pandas 3.0. This inplace method will never work because the intermediate object on which we are setting values always behaves as a copy.\n",
      "\n",
      "For example, when doing 'df[col].method(value, inplace=True)', try using 'df.method({col: value}, inplace=True)' or df[col] = df[col].method(value) instead, to perform the operation inplace on the original object.\n",
      "\n",
      "\n",
      "  df['product_specifications'].fillna('Model # (MPN) : None/Product ID : None/Manufactured By : None/Sold By : Houzz/Size/Weight : None/Materials : None/Assembly Required : None/Category : None/Style : None/',inplace=True)\n",
      "/var/folders/1p/063yl0ms01z8skkqfmk94z9c0000gn/T/ipykernel_51416/3697702336.py:14: FutureWarning: A value is trying to be set on a copy of a DataFrame or Series through chained assignment using an inplace method.\n",
      "The behavior will change in pandas 3.0. This inplace method will never work because the intermediate object on which we are setting values always behaves as a copy.\n",
      "\n",
      "For example, when doing 'df[col].method(value, inplace=True)', try using 'df.method({col: value}, inplace=True)' or df[col] = df[col].method(value) instead, to perform the operation inplace on the original object.\n",
      "\n",
      "\n",
      "  df['combinations'].fillna(\"{'option_name': 'Variants not found','price': '$0.00'}\",inplace=True)\n"
     ]
    }
   ],
   "source": [
    "# Fill missing SKU values with None\n",
    "df['SKU'].fillna('None',inplace=True)\n",
    "\n",
    "# Fill missing regular prices with a default JSON string\n",
    "df['regular_retail_price'].fillna('{\"value\":0,\"currency\":\"USD\",\"symbol\":\"$\"}',inplace=True)\n",
    "\n",
    "# Fill missing discounted prices with a default JSON string\n",
    "df['discounted_retail_price'].fillna('{\"value\":0,\"currency\":\"USD\",\"symbol\":\"$\"}',inplace=True)\n",
    "\n",
    "# Fill missing product specifications with a default string\n",
    "df['product_specifications'].fillna('Model # (MPN) : None/Product ID : None/Manufactured By : None/Sold By : Houzz/Size/Weight : None/Materials : None/Assembly Required : None/Category : None/Style : None/',inplace=True)\n",
    "\n",
    "# Fill missing combinations with a default value\n",
    "df['combinations'].fillna(\"{'option_name': 'Variants not found','price': '$0.00'}\",inplace=True)"
   ]
  },
  {
   "cell_type": "code",
   "execution_count": 10,
   "id": "2bf06b0b",
   "metadata": {},
   "outputs": [],
   "source": [
    "# Clean the 'combinations' field by replacing a known problematic string format\n",
    "df['combinations'] = df['combinations'].str.replace(\n",
    "    \"[{'option_name': 'Variants not found', 'price': '$0.00'}]\",\n",
    "    \"{'option_name': 'Variants not found','price': '$0.00'}\",\n",
    "    regex=False\n",
    ")"
   ]
  },
  {
   "cell_type": "markdown",
   "id": "4fdc09a7",
   "metadata": {},
   "source": [
    "## 3. Parse Product Specifications"
   ]
  },
  {
   "cell_type": "code",
   "execution_count": 11,
   "id": "14448b43",
   "metadata": {},
   "outputs": [],
   "source": [
    "# Function to clean and convert the product_specifications into a dictionary\n",
    "def dictionary_maker(record: str):\n",
    "    # Replace known problem characters and handle specific cases\n",
    "    list_specifications = (\n",
    "        record\n",
    "        .replace(\" / \", \"x \")  # Replace slashes within values\n",
    "        .replace('Size/Weight', 'Size_Weight')\n",
    "        .replace(\"Faux Leather/Leatherette\", \"Faux_Leather\")\n",
    "        .replace(\"Fabric/Linen\", \"Fabric_Linen\")\n",
    "        .replace(\"Metal Turnplate/Kickplate\", \"Metal_Turnplate_Kickplate\")\n",
    "        .replace(\"MDF/Solid Wood\", \"MDF_Solid_Wood\")\n",
    "        .replace(\"Fabric/Walnut\", \"Fabric_Walnut\")\n",
    "        .replace(\"Coated/Black\", \"Coated_Black\")\n",
    "        #.replace(\" \", \"_\")  # Replace spaces with underscores\n",
    "        .split('/')  # Split the string by '/'\n",
    "    )\n",
    "\n",
    "    keys = []\n",
    "    values = []\n",
    "    \n",
    "    for i in list_specifications:\n",
    "        # Split by the first occurrence of ':' to get the key-value pair\n",
    "        if ':' in i:\n",
    "            key_value = i.split(':', 1)\n",
    "            keys.append(key_value[0])\n",
    "            values.append(key_value[1])\n",
    "        else:\n",
    "            continue\n",
    "    \n",
    "    # Zip the keys and values into a dictionary\n",
    "    dict_ = dict(zip(keys, values))\n",
    "    return dict_\n"
   ]
  },
  {
   "cell_type": "code",
   "execution_count": 12,
   "id": "a97e8b97",
   "metadata": {},
   "outputs": [],
   "source": [
    "# Convert the product specifications column to dictionaries\n",
    "df['product_specifications'] = df['product_specifications'].map(lambda x: dictionary_maker(x),na_action='ignore')"
   ]
  },
  {
   "cell_type": "markdown",
   "id": "b23ada89",
   "metadata": {},
   "source": [
    "## 4. Parse Price Data for Regular and Discounted Prices"
   ]
  },
  {
   "cell_type": "code",
   "execution_count": 13,
   "id": "3893c52c",
   "metadata": {},
   "outputs": [],
   "source": [
    "# Extract URL column\n",
    "url = df[['url']]\n",
    "\n",
    "# Extract SKU and product_specifications columns\n",
    "product_s = df[['SKU','product_specifications']]\n",
    "\n",
    "# Extract SKU and regular price columns\n",
    "reg_price = df[['SKU','regular_retail_price']]\n",
    "\n",
    "# Extract SKU and discounted price columns\n",
    "promo_price = df[['SKU','discounted_retail_price']]"
   ]
  },
  {
   "cell_type": "code",
   "execution_count": 14,
   "id": "7f257970",
   "metadata": {},
   "outputs": [],
   "source": [
    "# Parse the price strings into DataFrames\n",
    "reg_dfs = [\n",
    "    pd.DataFrame(ast.literal_eval(row['regular_retail_price']), index=[row['SKU']])\n",
    "    for _, row in reg_price.iterrows()\n",
    "]\n",
    "reg_total = pd.concat(reg_dfs).reset_index().rename(columns={\"value\": \"regular-retail-price\"})\n",
    "\n",
    "promo_dfs = [\n",
    "    pd.DataFrame(ast.literal_eval(row['discounted_retail_price']), index=[row['SKU']])\n",
    "    for _, row in promo_price.iterrows()\n",
    "]\n",
    "promo_total = pd.concat(promo_dfs).reset_index().rename(columns={\"value\": \"discounted-retail-price\"})"
   ]
  },
  {
   "cell_type": "code",
   "execution_count": 15,
   "id": "619767f3",
   "metadata": {},
   "outputs": [],
   "source": [
    "# Function to insert a decimal point in price strings\n",
    "def decimalAdder(x:str):\n",
    "    if len(x)>4:\n",
    "        x = (x[:len(x)-2] + '.' + x[-2:])\n",
    "    return x"
   ]
  },
  {
   "cell_type": "code",
   "execution_count": 16,
   "id": "f0ab67f5",
   "metadata": {},
   "outputs": [],
   "source": [
    "# Process regular and discounted prices: convert to string, apply decimalAdder, then convert to float\n",
    "\n",
    "## Regular prices\n",
    "reg_total['regular-retail-price'] = reg_total['regular-retail-price'].map(str)\n",
    "reg_total['regular-retail-price'] = reg_total['regular-retail-price'].map(lambda x: decimalAdder(x),na_action='ignore')\n",
    "reg_total['regular-retail-price'] = reg_total['regular-retail-price'].astype(float)\n",
    "\n",
    "## Discount prices\n",
    "promo_total['discounted-retail-price'] = promo_total['discounted-retail-price'].map(str)\n",
    "promo_total['discounted-retail-price'] = promo_total['discounted-retail-price'].map(lambda x: decimalAdder(x),na_action='ignore')\n",
    "promo_total['discounted-retail-price'] = promo_total['discounted-retail-price'].astype(float)"
   ]
  },
  {
   "cell_type": "markdown",
   "id": "76325fcb",
   "metadata": {},
   "source": [
    "## 5. Process Product Specification Data"
   ]
  },
  {
   "cell_type": "code",
   "execution_count": 17,
   "id": "4177a4c6",
   "metadata": {},
   "outputs": [],
   "source": [
    "# Build a DataFrame from the product_specifications for each SKU \n",
    "spec_dfs = [\n",
    "    pd.DataFrame([specs], index=[sku])\n",
    "    for sku, specs in zip(product_s['SKU'], product_s['product_specifications'])\n",
    "]\n",
    "specifications = pd.concat(spec_dfs)"
   ]
  },
  {
   "cell_type": "code",
   "execution_count": 19,
   "id": "67dfcc54",
   "metadata": {},
   "outputs": [],
   "source": [
    "# Define the list of columns to retain from the specifications\n",
    "column_list =['Product ID','Model # (MPN)','Manufactured By','Sold By','Size_Weight','Materials',\n",
    "              'Assembly Required','Category','Style','Color','Collection','Commercial-grade']#,'Size']\n",
    "\n",
    "# Select the defined columns\n",
    "specifications_new = specifications[column_list]\n",
    "\n",
    "# Reset index of the specifications DataFrame\n",
    "specifications_new  = specifications_new.reset_index()"
   ]
  },
  {
   "cell_type": "code",
   "execution_count": 20,
   "id": "1d6064f6",
   "metadata": {},
   "outputs": [],
   "source": [
    "# Concatenate the original DataFrame with specifications, promo, and regular price\n",
    "df_new = pd.concat([df,specifications_new,promo_total,reg_total],axis=1)"
   ]
  },
  {
   "cell_type": "markdown",
   "id": "bcacb2f3",
   "metadata": {},
   "source": [
    "## 6. Process Combinations Field"
   ]
  },
  {
   "cell_type": "code",
   "execution_count": 22,
   "id": "8759b89f",
   "metadata": {},
   "outputs": [],
   "source": [
    "# Extract columns related to combinations processing\n",
    "combinations = df_new[['SKU','combinations','url']]"
   ]
  },
  {
   "cell_type": "code",
   "execution_count": 23,
   "id": "67cfaacd",
   "metadata": {},
   "outputs": [],
   "source": [
    "# Function to convert the combinations field from a string to a list\n",
    "def combiner(record:str):\n",
    "    try:\n",
    "        check_point = ast.literal_eval(record)\n",
    "        if isinstance(check_point,dict):\n",
    "            final_list = [ast.literal_eval(record)]\n",
    "        if isinstance(check_point,list):\n",
    "            record = record.replace(\", '\",\",'\")\n",
    "            final_list = ast.literal_eval(record)\n",
    "                  \n",
    "        return final_list\n",
    "    except:\n",
    "        return []"
   ]
  },
  {
   "cell_type": "code",
   "execution_count": 24,
   "id": "1b8b8d5d",
   "metadata": {},
   "outputs": [
    {
     "name": "stderr",
     "output_type": "stream",
     "text": [
      "/var/folders/1p/063yl0ms01z8skkqfmk94z9c0000gn/T/ipykernel_51416/1103615253.py:2: SettingWithCopyWarning: \n",
      "A value is trying to be set on a copy of a slice from a DataFrame.\n",
      "Try using .loc[row_indexer,col_indexer] = value instead\n",
      "\n",
      "See the caveats in the documentation: https://pandas.pydata.org/pandas-docs/stable/user_guide/indexing.html#returning-a-view-versus-a-copy\n",
      "  combinations.combinations = combinations.combinations.map(lambda x: combiner(x),na_action='ignore')\n"
     ]
    }
   ],
   "source": [
    "# Apply the combiner function \n",
    "combinations.combinations = combinations.combinations.map(lambda x: combiner(x),na_action='ignore')"
   ]
  },
  {
   "cell_type": "code",
   "execution_count": 26,
   "id": "01b05da5",
   "metadata": {},
   "outputs": [
    {
     "data": {
      "text/html": [
       "<div>\n",
       "<style scoped>\n",
       "    .dataframe tbody tr th:only-of-type {\n",
       "        vertical-align: middle;\n",
       "    }\n",
       "\n",
       "    .dataframe tbody tr th {\n",
       "        vertical-align: top;\n",
       "    }\n",
       "\n",
       "    .dataframe thead th {\n",
       "        text-align: right;\n",
       "    }\n",
       "</style>\n",
       "<table border=\"1\" class=\"dataframe\">\n",
       "  <thead>\n",
       "    <tr style=\"text-align: right;\">\n",
       "      <th></th>\n",
       "      <th>url</th>\n",
       "      <th>option_name</th>\n",
       "      <th>price</th>\n",
       "    </tr>\n",
       "  </thead>\n",
       "  <tbody>\n",
       "    <tr>\n",
       "      <th>0</th>\n",
       "      <td>https://www.houzz.com/products/agi-mid-century...</td>\n",
       "      <td>Gray</td>\n",
       "      <td>$384.00</td>\n",
       "    </tr>\n",
       "    <tr>\n",
       "      <th>1</th>\n",
       "      <td>https://www.houzz.com/products/agi-mid-century...</td>\n",
       "      <td>Orange</td>\n",
       "      <td>$384.00</td>\n",
       "    </tr>\n",
       "    <tr>\n",
       "      <th>5</th>\n",
       "      <td>https://www.houzz.com/products/aberdeen-30-mid...</td>\n",
       "      <td>Brown, Counter Stool</td>\n",
       "      <td>$214.00</td>\n",
       "    </tr>\n",
       "    <tr>\n",
       "      <th>6</th>\n",
       "      <td>https://www.houzz.com/products/aberdeen-30-mid...</td>\n",
       "      <td>Brown, Barstool</td>\n",
       "      <td>$217.00</td>\n",
       "    </tr>\n",
       "    <tr>\n",
       "      <th>7</th>\n",
       "      <td>https://www.houzz.com/products/aberdeen-30-mid...</td>\n",
       "      <td>Gray, Barstool</td>\n",
       "      <td>$217.00</td>\n",
       "    </tr>\n",
       "    <tr>\n",
       "      <th>...</th>\n",
       "      <td>...</td>\n",
       "      <td>...</td>\n",
       "      <td>...</td>\n",
       "    </tr>\n",
       "    <tr>\n",
       "      <th>2134</th>\n",
       "      <td>https://www.houzz.com/products/arden-back-bars...</td>\n",
       "      <td>Gray Walnut and Black Faux Leather, 26\" Counte...</td>\n",
       "      <td>$430.00</td>\n",
       "    </tr>\n",
       "    <tr>\n",
       "      <th>2135</th>\n",
       "      <td>https://www.houzz.com/products/arden-back-bars...</td>\n",
       "      <td>Gray Walnut and Black Faux Leather, 30\" Bar He...</td>\n",
       "      <td>$436.00</td>\n",
       "    </tr>\n",
       "    <tr>\n",
       "      <th>2137</th>\n",
       "      <td>https://www.houzz.com/products/sandringham-26-...</td>\n",
       "      <td>, Gray</td>\n",
       "      <td>$246.00</td>\n",
       "    </tr>\n",
       "    <tr>\n",
       "      <th>2138</th>\n",
       "      <td>https://www.houzz.com/products/sandringham-26-...</td>\n",
       "      <td>30\", Brushed stainless steel and Gray</td>\n",
       "      <td>$248.00</td>\n",
       "    </tr>\n",
       "    <tr>\n",
       "      <th>2139</th>\n",
       "      <td>https://www.houzz.com/products/sandringham-26-...</td>\n",
       "      <td>26\", Black powder-coated frame and Gray</td>\n",
       "      <td>$225.00</td>\n",
       "    </tr>\n",
       "  </tbody>\n",
       "</table>\n",
       "<p>1453 rows × 3 columns</p>\n",
       "</div>"
      ],
      "text/plain": [
       "                                                    url  \\\n",
       "0     https://www.houzz.com/products/agi-mid-century...   \n",
       "1     https://www.houzz.com/products/agi-mid-century...   \n",
       "5     https://www.houzz.com/products/aberdeen-30-mid...   \n",
       "6     https://www.houzz.com/products/aberdeen-30-mid...   \n",
       "7     https://www.houzz.com/products/aberdeen-30-mid...   \n",
       "...                                                 ...   \n",
       "2134  https://www.houzz.com/products/arden-back-bars...   \n",
       "2135  https://www.houzz.com/products/arden-back-bars...   \n",
       "2137  https://www.houzz.com/products/sandringham-26-...   \n",
       "2138  https://www.houzz.com/products/sandringham-26-...   \n",
       "2139  https://www.houzz.com/products/sandringham-26-...   \n",
       "\n",
       "                                            option_name    price  \n",
       "0                                                  Gray  $384.00  \n",
       "1                                                Orange  $384.00  \n",
       "5                                  Brown, Counter Stool  $214.00  \n",
       "6                                       Brown, Barstool  $217.00  \n",
       "7                                        Gray, Barstool  $217.00  \n",
       "...                                                 ...      ...  \n",
       "2134  Gray Walnut and Black Faux Leather, 26\" Counte...  $430.00  \n",
       "2135  Gray Walnut and Black Faux Leather, 30\" Bar He...  $436.00  \n",
       "2137                                             , Gray  $246.00  \n",
       "2138              30\", Brushed stainless steel and Gray  $248.00  \n",
       "2139            26\", Black powder-coated frame and Gray  $225.00  \n",
       "\n",
       "[1453 rows x 3 columns]"
      ]
     },
     "execution_count": 26,
     "metadata": {},
     "output_type": "execute_result"
    }
   ],
   "source": [
    "# Explode the combinations list\n",
    "combinations_exploded = combinations.explode('combinations')\n",
    "\n",
    "# Normalize the dictionary stored in combinations\n",
    "comb_expanded = pd.json_normalize(combinations_exploded['combinations'])\n",
    "combinations_exploded = combinations_exploded.drop(['combinations', 'SKU'], axis=1).reset_index(drop=True)\n",
    "combination_new = pd.concat([combinations_exploded, comb_expanded], axis=1)\n",
    "combination_new.dropna(subset=['option_name'],)"
   ]
  },
  {
   "cell_type": "code",
   "execution_count": 27,
   "id": "c13811a1",
   "metadata": {},
   "outputs": [],
   "source": [
    "# Merge the combinations data with the main DataFrame on 'url'\n",
    "df_new_2 = pd.merge(df_new,combination_new[['url','option_name','price']],on='url', how='left')\n",
    "\n",
    "# Rename columns\n",
    "df_new_2 = df_new_2.rename(columns={\n",
    "    'regular_retail_price': 'drop1',\n",
    "    'discounted_retail_price': 'drop2',\n",
    "    'price': 'option_price',\n",
    "    'url': 'URL'\n",
    "})\n",
    "\n",
    "# Drop extra index column if present\n",
    "if 'index' in df_new_2.columns:\n",
    "    df_new_2 = df_new_2.drop('index', axis=1)\n",
    "\n",
    "# Drop unwanted columns if present\n",
    "for col in ['currency', 'symbol']:\n",
    "    if col in df_new_2.columns:\n",
    "        df_new_2 = df_new_2.drop(col, axis=1)\n",
    "\n",
    "# Drop temporary columns\n",
    "df_new_2 = df_new_2.drop(['drop1', 'drop2'], axis=1)   "
   ]
  },
  {
   "cell_type": "markdown",
   "id": "ae4cb16e",
   "metadata": {},
   "source": [
    "## 7. Finalize DataFrame and Export to Excel"
   ]
  },
  {
   "cell_type": "code",
   "execution_count": 30,
   "id": "10d6f3be",
   "metadata": {},
   "outputs": [],
   "source": [
    "# Define the final column order\n",
    "final_column_list = ['Product ID','SKU', 'Model # (MPN)','category', 'breadcrumbs', 'product_name', 'regular-retail-price','discounted-retail-price', 'availability',\n",
    "       'option_name', 'option_price','sale_tag', 'image_count', 'product_description',\n",
    "       'product_specifications', 'number_of_reviews', 'average_rating','reviews',\n",
    "       'is_video', 'combinations', 'shipping_and_returns', 'URL',\n",
    "       'Manufactured By', 'Sold By',\n",
    "       'Size_Weight', 'Materials', 'Assembly Required', 'Category', 'Style',\n",
    "       'Color']\n",
    "\n",
    "# Select the final columns for the output\n",
    "df_final = df_new_2[final_column_list]\n",
    "\n",
    "# Export the final DataFrame to an Excel file\n",
    "df_final.to_excel('../data/processed/houzz_retail_data_3132025.xlsx')"
   ]
  },
  {
   "cell_type": "markdown",
   "id": "e5979ad6",
   "metadata": {},
   "source": [
    "## 8. Load Excel Workbook and Apply Styling"
   ]
  },
  {
   "cell_type": "code",
   "execution_count": 31,
   "id": "940c526a",
   "metadata": {},
   "outputs": [],
   "source": [
    "# Load the exported Excel workbook\n",
    "wb =load_workbook(filename = '../data/processed/houzz_retail_data_3132025.xlsx')\n",
    "\n",
    "# Select the active worksheet\n",
    "ws = wb.active\n",
    "\n",
    "# Apply an auto-filter \n",
    "ws.auto_filter.ref = ws.dimensions"
   ]
  },
  {
   "cell_type": "code",
   "execution_count": 32,
   "id": "7b29121c",
   "metadata": {},
   "outputs": [],
   "source": [
    "# Define a header font style\n",
    "font = Font(size=15, bold=True, italic=False, vertAlign=None, underline='none', strike=False, color='FF000000')\n",
    "\n",
    "# Define text wrapping alignment\n",
    "wrap = Alignment(wrapText=True,horizontal='left')\n",
    "\n",
    "# Define left alignment for cells\n",
    "left_alignment = Alignment(horizontal='left')\n",
    "\n",
    "# Define a fill pattern for header cells\n",
    "fill = PatternFill(\"solid\", fgColor=\"00CCFFCC\")\n",
    "\n",
    "# Define thin borders for cells\n",
    "top=Side(border_style='thin',color=\"FF000000\")\n",
    "bottom=Side(border_style='thin', color=\"FF000000\")\n",
    "left = Side(border_style='thin', color=\"FF000000\")\n",
    "right = Side(border_style='thin', color=\"FF000000\")\n",
    "border=Border(top=top,bottom=bottom,left=left,right=right)"
   ]
  },
  {
   "cell_type": "code",
   "execution_count": 33,
   "id": "dea097ae",
   "metadata": {},
   "outputs": [],
   "source": [
    "# Get the total number of rows in the worksheet\n",
    "last_row = ws.max_row\n",
    "\n",
    "# Set a standard row height for all rows\n",
    "for i in range(2,last_row+1):\n",
    "    ws.row_dimensions[i].height = 15\n",
    "\n",
    "# Apply number formatting to specific columns \n",
    "for col in [\"B\", \"C\", \"D\", \"Q\", \"R\"]:\n",
    "    for cell in ws[col]:\n",
    "        cell.number_format = numbers.FORMAT_NUMBER\n",
    "\n",
    "# Apply left alignment and thing borders to all cells\n",
    "for row in ws.iter_rows(min_row=1, max_row=last_row):\n",
    "    for cell in row:\n",
    "        cell.alignment = left_alignment\n",
    "        cell.border = border\n",
    "\n",
    "# Format the header row\n",
    "for cell in ws[\"1:1\"]:\n",
    "    cell.font = font\n",
    "    cell.fill = fill"
   ]
  },
  {
   "cell_type": "markdown",
   "id": "f90eb137",
   "metadata": {},
   "source": [
    "## 9. Apply Additional Alignments for Specific Columns"
   ]
  },
  {
   "cell_type": "code",
   "execution_count": 34,
   "id": "97fe6eed",
   "metadata": {},
   "outputs": [],
   "source": [
    "# Enable text wrapping for specific columns\n",
    "for col in ['G', 'F', 'O', 'V']:\n",
    "    for cell in ws[col]:\n",
    "        cell.alignment = wrap"
   ]
  },
  {
   "cell_type": "markdown",
   "id": "c214911e",
   "metadata": {},
   "source": [
    "## 10. Freeze Panes and Set Column Widths"
   ]
  },
  {
   "cell_type": "code",
   "execution_count": 35,
   "id": "c8a9a597",
   "metadata": {},
   "outputs": [],
   "source": [
    "# Freeze panes to keep the header visible when scrolling\n",
    "ws.freeze_panes = ws[\"B2\"]\n",
    "\n",
    "# Define column widths\n",
    "col_widths = {\n",
    "    \"B\": 20, \"C\": 20, \"D\": 20, \"E\": 20, \"F\": 60, \"G\": 60,\n",
    "    \"H\": 30, \"I\": 30, \"J\": 20, \"K\": 30, \"L\": 20, \"M\": 20,\n",
    "    \"N\": 20, \"O\": 100, \"P\": 60, \"Q\": 20, \"R\": 20, \"S\": 20,\n",
    "    \"T\": 30, \"U\": 40, \"V\": 100, \"W\": 20, \"X\": 20, \"Y\": 30,\n",
    "    \"Z\": 30, \"AA\": 30, \"AB\": 30, \"AC\":30, \"AD\": 30\n",
    "    }\n",
    "\n",
    "# Apply column widths\n",
    "for col, width in col_widths.items():\n",
    "    ws.column_dimensions[col].width = width"
   ]
  },
  {
   "cell_type": "markdown",
   "id": "e16b056d",
   "metadata": {},
   "source": [
    "## 11. Save the Styled Workbook"
   ]
  },
  {
   "cell_type": "code",
   "execution_count": 36,
   "id": "932cec80",
   "metadata": {},
   "outputs": [],
   "source": [
    "wb.save(\"../data/processed/houzz_retail_data_3132025_styled.xlsx\")"
   ]
  }
 ],
 "metadata": {
  "kernelspec": {
   "display_name": "Python 3",
   "language": "python",
   "name": "python3"
  },
  "language_info": {
   "codemirror_mode": {
    "name": "ipython",
    "version": 3
   },
   "file_extension": ".py",
   "mimetype": "text/x-python",
   "name": "python",
   "nbconvert_exporter": "python",
   "pygments_lexer": "ipython3",
   "version": "3.10.9"
  }
 },
 "nbformat": 4,
 "nbformat_minor": 5
}
